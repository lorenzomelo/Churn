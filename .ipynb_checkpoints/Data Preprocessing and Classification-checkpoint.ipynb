{
 "cells": [
  {
   "cell_type": "code",
   "execution_count": 1,
   "metadata": {},
   "outputs": [],
   "source": [
    "import pandas as pd\n",
    "import numpy as np\n",
    "import matplotlib.pyplot as plt"
   ]
  },
  {
   "cell_type": "markdown",
   "metadata": {},
   "source": [
    "# Preprocessing"
   ]
  },
  {
   "cell_type": "markdown",
   "metadata": {},
   "source": [
    "### Read Data"
   ]
  },
  {
   "cell_type": "code",
   "execution_count": 19,
   "metadata": {},
   "outputs": [
    {
     "data": {
      "text/html": [
       "<div>\n",
       "<style scoped>\n",
       "    .dataframe tbody tr th:only-of-type {\n",
       "        vertical-align: middle;\n",
       "    }\n",
       "\n",
       "    .dataframe tbody tr th {\n",
       "        vertical-align: top;\n",
       "    }\n",
       "\n",
       "    .dataframe thead th {\n",
       "        text-align: right;\n",
       "    }\n",
       "</style>\n",
       "<table border=\"1\" class=\"dataframe\">\n",
       "  <thead>\n",
       "    <tr style=\"text-align: right;\">\n",
       "      <th></th>\n",
       "      <th>Unnamed: 0</th>\n",
       "      <th>CLIENTNUM</th>\n",
       "      <th>Attrition_Flag</th>\n",
       "      <th>Customer_Age</th>\n",
       "      <th>Gender</th>\n",
       "      <th>Dependent_count</th>\n",
       "      <th>Education_Level</th>\n",
       "      <th>Marital_Status</th>\n",
       "      <th>Income_Category</th>\n",
       "      <th>Card_Category</th>\n",
       "      <th>Months_on_book</th>\n",
       "      <th>Total_Relationship_Count</th>\n",
       "      <th>Months_Inactive_12_mon</th>\n",
       "      <th>Contacts_Count_12_mon</th>\n",
       "      <th>Credit_Limit</th>\n",
       "      <th>Total_Trans_Amt</th>\n",
       "      <th>Total_Trans_Ct</th>\n",
       "      <th>Avg_Utilization_Ratio</th>\n",
       "    </tr>\n",
       "  </thead>\n",
       "  <tbody>\n",
       "    <tr>\n",
       "      <th>0</th>\n",
       "      <td>1</td>\n",
       "      <td>768805383</td>\n",
       "      <td>Existing Customer</td>\n",
       "      <td>45</td>\n",
       "      <td>M</td>\n",
       "      <td>3</td>\n",
       "      <td>High School</td>\n",
       "      <td>Married</td>\n",
       "      <td>$60K - $80K</td>\n",
       "      <td>Blue</td>\n",
       "      <td>39</td>\n",
       "      <td>5</td>\n",
       "      <td>1</td>\n",
       "      <td>3</td>\n",
       "      <td>12691.0</td>\n",
       "      <td>1144</td>\n",
       "      <td>42</td>\n",
       "      <td>1.01</td>\n",
       "    </tr>\n",
       "    <tr>\n",
       "      <th>1</th>\n",
       "      <td>2</td>\n",
       "      <td>818770008</td>\n",
       "      <td>Existing Customer</td>\n",
       "      <td>49</td>\n",
       "      <td>F</td>\n",
       "      <td>5</td>\n",
       "      <td>Graduate</td>\n",
       "      <td>Single</td>\n",
       "      <td>Less than $40K</td>\n",
       "      <td>Blue</td>\n",
       "      <td>44</td>\n",
       "      <td>6</td>\n",
       "      <td>1</td>\n",
       "      <td>2</td>\n",
       "      <td>8256.0</td>\n",
       "      <td>1291</td>\n",
       "      <td>33</td>\n",
       "      <td>1.45</td>\n",
       "    </tr>\n",
       "    <tr>\n",
       "      <th>2</th>\n",
       "      <td>3</td>\n",
       "      <td>713982108</td>\n",
       "      <td>Existing Customer</td>\n",
       "      <td>51</td>\n",
       "      <td>M</td>\n",
       "      <td>3</td>\n",
       "      <td>Graduate</td>\n",
       "      <td>Married</td>\n",
       "      <td>$80K - $120K</td>\n",
       "      <td>Blue</td>\n",
       "      <td>36</td>\n",
       "      <td>4</td>\n",
       "      <td>1</td>\n",
       "      <td>0</td>\n",
       "      <td>3418.0</td>\n",
       "      <td>1887</td>\n",
       "      <td>20</td>\n",
       "      <td>0.00</td>\n",
       "    </tr>\n",
       "    <tr>\n",
       "      <th>3</th>\n",
       "      <td>4</td>\n",
       "      <td>769911858</td>\n",
       "      <td>Existing Customer</td>\n",
       "      <td>40</td>\n",
       "      <td>F</td>\n",
       "      <td>4</td>\n",
       "      <td>High School</td>\n",
       "      <td>Unknown</td>\n",
       "      <td>Less than $40K</td>\n",
       "      <td>Blue</td>\n",
       "      <td>34</td>\n",
       "      <td>3</td>\n",
       "      <td>4</td>\n",
       "      <td>1</td>\n",
       "      <td>3313.0</td>\n",
       "      <td>1171</td>\n",
       "      <td>20</td>\n",
       "      <td>1.16</td>\n",
       "    </tr>\n",
       "    <tr>\n",
       "      <th>4</th>\n",
       "      <td>5</td>\n",
       "      <td>709106358</td>\n",
       "      <td>Existing Customer</td>\n",
       "      <td>40</td>\n",
       "      <td>M</td>\n",
       "      <td>3</td>\n",
       "      <td>Uneducated</td>\n",
       "      <td>Married</td>\n",
       "      <td>$60K - $80K</td>\n",
       "      <td>Blue</td>\n",
       "      <td>21</td>\n",
       "      <td>5</td>\n",
       "      <td>1</td>\n",
       "      <td>0</td>\n",
       "      <td>4716.0</td>\n",
       "      <td>816</td>\n",
       "      <td>28</td>\n",
       "      <td>0.00</td>\n",
       "    </tr>\n",
       "  </tbody>\n",
       "</table>\n",
       "</div>"
      ],
      "text/plain": [
       "   Unnamed: 0  CLIENTNUM     Attrition_Flag  Customer_Age Gender  \\\n",
       "0           1  768805383  Existing Customer            45      M   \n",
       "1           2  818770008  Existing Customer            49      F   \n",
       "2           3  713982108  Existing Customer            51      M   \n",
       "3           4  769911858  Existing Customer            40      F   \n",
       "4           5  709106358  Existing Customer            40      M   \n",
       "\n",
       "   Dependent_count Education_Level Marital_Status Income_Category  \\\n",
       "0                3     High School        Married     $60K - $80K   \n",
       "1                5        Graduate         Single  Less than $40K   \n",
       "2                3        Graduate        Married    $80K - $120K   \n",
       "3                4     High School        Unknown  Less than $40K   \n",
       "4                3      Uneducated        Married     $60K - $80K   \n",
       "\n",
       "  Card_Category  Months_on_book  Total_Relationship_Count  \\\n",
       "0          Blue              39                         5   \n",
       "1          Blue              44                         6   \n",
       "2          Blue              36                         4   \n",
       "3          Blue              34                         3   \n",
       "4          Blue              21                         5   \n",
       "\n",
       "   Months_Inactive_12_mon  Contacts_Count_12_mon  Credit_Limit  \\\n",
       "0                       1                      3       12691.0   \n",
       "1                       1                      2        8256.0   \n",
       "2                       1                      0        3418.0   \n",
       "3                       4                      1        3313.0   \n",
       "4                       1                      0        4716.0   \n",
       "\n",
       "   Total_Trans_Amt  Total_Trans_Ct  Avg_Utilization_Ratio  \n",
       "0             1144              42                   1.01  \n",
       "1             1291              33                   1.45  \n",
       "2             1887              20                   0.00  \n",
       "3             1171              20                   1.16  \n",
       "4              816              28                   0.00  "
      ]
     },
     "execution_count": 19,
     "metadata": {},
     "output_type": "execute_result"
    }
   ],
   "source": [
    "data = pd.read_csv('churn.csv')\n",
    "data.head()"
   ]
  },
  {
   "cell_type": "code",
   "execution_count": 20,
   "metadata": {},
   "outputs": [],
   "source": [
    "# Eliminate variables not carrying useful information\n",
    "data = data.drop(columns = ['Unnamed: 0', 'CLIENTNUM'])"
   ]
  },
  {
   "cell_type": "code",
   "execution_count": 21,
   "metadata": {},
   "outputs": [],
   "source": [
    "# from sklearn.preprocessing import OneHotEncoder\n",
    "# from sklearn.preprocessing import LabelEncoder\n",
    "# from numpy import array\n",
    "\n",
    "# enc = OneHotEncoder(sparse = False)\n",
    "# ed_lev = LabelEncoder().fit_transform(data['Education_Level'])\n",
    "# new_ed = enc.fit_transform(ed_lev.reshape(ed_lev.shape[0],1))\n",
    "# print(new_ed[1])"
   ]
  },
  {
   "cell_type": "code",
   "execution_count": 22,
   "metadata": {
    "scrolled": true
   },
   "outputs": [],
   "source": [
    "# Encode categorical variables as dummy variables\n",
    "data = pd.get_dummies(data, columns = ['Education_Level', 'Gender', 'Marital_Status', 'Income_Category', 'Card_Category'])\n",
    "replace = {'Existing Customer' : 0, 'Attrited Customer' : 1}\n",
    "data = data.replace(replace)\n",
    "data.to_csv('preprocessed_data.csv')"
   ]
  },
  {
   "cell_type": "code",
   "execution_count": 23,
   "metadata": {},
   "outputs": [
    {
     "data": {
      "text/html": [
       "<div>\n",
       "<style scoped>\n",
       "    .dataframe tbody tr th:only-of-type {\n",
       "        vertical-align: middle;\n",
       "    }\n",
       "\n",
       "    .dataframe tbody tr th {\n",
       "        vertical-align: top;\n",
       "    }\n",
       "\n",
       "    .dataframe thead th {\n",
       "        text-align: right;\n",
       "    }\n",
       "</style>\n",
       "<table border=\"1\" class=\"dataframe\">\n",
       "  <thead>\n",
       "    <tr style=\"text-align: right;\">\n",
       "      <th></th>\n",
       "      <th>Attrition_Flag</th>\n",
       "      <th>Customer_Age</th>\n",
       "      <th>Dependent_count</th>\n",
       "      <th>Months_on_book</th>\n",
       "      <th>Total_Relationship_Count</th>\n",
       "      <th>Months_Inactive_12_mon</th>\n",
       "      <th>Contacts_Count_12_mon</th>\n",
       "      <th>Credit_Limit</th>\n",
       "      <th>Total_Trans_Amt</th>\n",
       "      <th>Total_Trans_Ct</th>\n",
       "      <th>...</th>\n",
       "      <th>Income_Category_$120K +</th>\n",
       "      <th>Income_Category_$40K - $60K</th>\n",
       "      <th>Income_Category_$60K - $80K</th>\n",
       "      <th>Income_Category_$80K - $120K</th>\n",
       "      <th>Income_Category_Less than $40K</th>\n",
       "      <th>Income_Category_Unknown</th>\n",
       "      <th>Card_Category_Blue</th>\n",
       "      <th>Card_Category_Gold</th>\n",
       "      <th>Card_Category_Platinum</th>\n",
       "      <th>Card_Category_Silver</th>\n",
       "    </tr>\n",
       "  </thead>\n",
       "  <tbody>\n",
       "    <tr>\n",
       "      <th>0</th>\n",
       "      <td>0</td>\n",
       "      <td>45</td>\n",
       "      <td>3</td>\n",
       "      <td>39</td>\n",
       "      <td>5</td>\n",
       "      <td>1</td>\n",
       "      <td>3</td>\n",
       "      <td>12691.0</td>\n",
       "      <td>1144</td>\n",
       "      <td>42</td>\n",
       "      <td>...</td>\n",
       "      <td>0</td>\n",
       "      <td>0</td>\n",
       "      <td>1</td>\n",
       "      <td>0</td>\n",
       "      <td>0</td>\n",
       "      <td>0</td>\n",
       "      <td>1</td>\n",
       "      <td>0</td>\n",
       "      <td>0</td>\n",
       "      <td>0</td>\n",
       "    </tr>\n",
       "    <tr>\n",
       "      <th>1</th>\n",
       "      <td>0</td>\n",
       "      <td>49</td>\n",
       "      <td>5</td>\n",
       "      <td>44</td>\n",
       "      <td>6</td>\n",
       "      <td>1</td>\n",
       "      <td>2</td>\n",
       "      <td>8256.0</td>\n",
       "      <td>1291</td>\n",
       "      <td>33</td>\n",
       "      <td>...</td>\n",
       "      <td>0</td>\n",
       "      <td>0</td>\n",
       "      <td>0</td>\n",
       "      <td>0</td>\n",
       "      <td>1</td>\n",
       "      <td>0</td>\n",
       "      <td>1</td>\n",
       "      <td>0</td>\n",
       "      <td>0</td>\n",
       "      <td>0</td>\n",
       "    </tr>\n",
       "    <tr>\n",
       "      <th>2</th>\n",
       "      <td>0</td>\n",
       "      <td>51</td>\n",
       "      <td>3</td>\n",
       "      <td>36</td>\n",
       "      <td>4</td>\n",
       "      <td>1</td>\n",
       "      <td>0</td>\n",
       "      <td>3418.0</td>\n",
       "      <td>1887</td>\n",
       "      <td>20</td>\n",
       "      <td>...</td>\n",
       "      <td>0</td>\n",
       "      <td>0</td>\n",
       "      <td>0</td>\n",
       "      <td>1</td>\n",
       "      <td>0</td>\n",
       "      <td>0</td>\n",
       "      <td>1</td>\n",
       "      <td>0</td>\n",
       "      <td>0</td>\n",
       "      <td>0</td>\n",
       "    </tr>\n",
       "    <tr>\n",
       "      <th>3</th>\n",
       "      <td>0</td>\n",
       "      <td>40</td>\n",
       "      <td>4</td>\n",
       "      <td>34</td>\n",
       "      <td>3</td>\n",
       "      <td>4</td>\n",
       "      <td>1</td>\n",
       "      <td>3313.0</td>\n",
       "      <td>1171</td>\n",
       "      <td>20</td>\n",
       "      <td>...</td>\n",
       "      <td>0</td>\n",
       "      <td>0</td>\n",
       "      <td>0</td>\n",
       "      <td>0</td>\n",
       "      <td>1</td>\n",
       "      <td>0</td>\n",
       "      <td>1</td>\n",
       "      <td>0</td>\n",
       "      <td>0</td>\n",
       "      <td>0</td>\n",
       "    </tr>\n",
       "    <tr>\n",
       "      <th>4</th>\n",
       "      <td>0</td>\n",
       "      <td>40</td>\n",
       "      <td>3</td>\n",
       "      <td>21</td>\n",
       "      <td>5</td>\n",
       "      <td>1</td>\n",
       "      <td>0</td>\n",
       "      <td>4716.0</td>\n",
       "      <td>816</td>\n",
       "      <td>28</td>\n",
       "      <td>...</td>\n",
       "      <td>0</td>\n",
       "      <td>0</td>\n",
       "      <td>1</td>\n",
       "      <td>0</td>\n",
       "      <td>0</td>\n",
       "      <td>0</td>\n",
       "      <td>1</td>\n",
       "      <td>0</td>\n",
       "      <td>0</td>\n",
       "      <td>0</td>\n",
       "    </tr>\n",
       "  </tbody>\n",
       "</table>\n",
       "<p>5 rows × 34 columns</p>\n",
       "</div>"
      ],
      "text/plain": [
       "   Attrition_Flag  Customer_Age  Dependent_count  Months_on_book  \\\n",
       "0               0            45                3              39   \n",
       "1               0            49                5              44   \n",
       "2               0            51                3              36   \n",
       "3               0            40                4              34   \n",
       "4               0            40                3              21   \n",
       "\n",
       "   Total_Relationship_Count  Months_Inactive_12_mon  Contacts_Count_12_mon  \\\n",
       "0                         5                       1                      3   \n",
       "1                         6                       1                      2   \n",
       "2                         4                       1                      0   \n",
       "3                         3                       4                      1   \n",
       "4                         5                       1                      0   \n",
       "\n",
       "   Credit_Limit  Total_Trans_Amt  Total_Trans_Ct  ...  \\\n",
       "0       12691.0             1144              42  ...   \n",
       "1        8256.0             1291              33  ...   \n",
       "2        3418.0             1887              20  ...   \n",
       "3        3313.0             1171              20  ...   \n",
       "4        4716.0              816              28  ...   \n",
       "\n",
       "   Income_Category_$120K +  Income_Category_$40K - $60K  \\\n",
       "0                        0                            0   \n",
       "1                        0                            0   \n",
       "2                        0                            0   \n",
       "3                        0                            0   \n",
       "4                        0                            0   \n",
       "\n",
       "   Income_Category_$60K - $80K  Income_Category_$80K - $120K  \\\n",
       "0                            1                             0   \n",
       "1                            0                             0   \n",
       "2                            0                             1   \n",
       "3                            0                             0   \n",
       "4                            1                             0   \n",
       "\n",
       "   Income_Category_Less than $40K  Income_Category_Unknown  \\\n",
       "0                               0                        0   \n",
       "1                               1                        0   \n",
       "2                               0                        0   \n",
       "3                               1                        0   \n",
       "4                               0                        0   \n",
       "\n",
       "   Card_Category_Blue  Card_Category_Gold  Card_Category_Platinum  \\\n",
       "0                   1                   0                       0   \n",
       "1                   1                   0                       0   \n",
       "2                   1                   0                       0   \n",
       "3                   1                   0                       0   \n",
       "4                   1                   0                       0   \n",
       "\n",
       "   Card_Category_Silver  \n",
       "0                     0  \n",
       "1                     0  \n",
       "2                     0  \n",
       "3                     0  \n",
       "4                     0  \n",
       "\n",
       "[5 rows x 34 columns]"
      ]
     },
     "execution_count": 23,
     "metadata": {},
     "output_type": "execute_result"
    }
   ],
   "source": [
    "data.head()"
   ]
  },
  {
   "cell_type": "markdown",
   "metadata": {},
   "source": [
    "### Split into Train and Test"
   ]
  },
  {
   "cell_type": "code",
   "execution_count": 78,
   "metadata": {},
   "outputs": [
    {
     "name": "stdout",
     "output_type": "stream",
     "text": [
      "(8102,) (8102, 33) (2025,) (2025, 33)\n"
     ]
    }
   ],
   "source": [
    "from numpy.random import default_rng\n",
    "rng = default_rng(2022) # Set seed\n",
    "\n",
    "train = rng.choice(int(data.shape[0]), size=int(round(data.shape[0]*0.8)), replace=False)\n",
    "test = [i for i in range(data.shape[0]) if i not in train]\n",
    "\n",
    "train_y, train_X = data.iloc[train, 0].values, data.iloc[train, 1:].values\n",
    "test_y, test_X = data.iloc[test, 0].values, data.iloc[test, 1:].values\n",
    "\n",
    "print(train_y.shape, train_X.shape, test_y.shape, test_X.shape)"
   ]
  },
  {
   "cell_type": "code",
   "execution_count": 98,
   "metadata": {},
   "outputs": [],
   "source": [
    "# Check for consistency with original y distribution"
   ]
  },
  {
   "cell_type": "code",
   "execution_count": 96,
   "metadata": {},
   "outputs": [
    {
     "data": {
      "text/plain": [
       "([<matplotlib.patches.Wedge at 0x1b840fe8f70>,\n",
       "  <matplotlib.patches.Wedge at 0x1b840ff66d0>],\n",
       " [Text(-0.9621482684518966, 0.5331704319586911, 'Attrited Customer'),\n",
       "  Text(0.9621482434923866, -0.5331704770001012, 'Existing Customer')],\n",
       " [Text(-0.5248081464283072, 0.29082023561383147, '84%'),\n",
       "  Text(0.5248081328140289, -0.2908202601818734, '16%')])"
      ]
     },
     "execution_count": 96,
     "metadata": {},
     "output_type": "execute_result"
    },
    {
     "data": {
      "image/png": "[encoded data removed]",
      "text/plain": [
       "<Figure size 432x288 with 1 Axes>"
      ]
     },
     "metadata": {},
     "output_type": "display_data"
    }
   ],
   "source": [
    "df_pie = data.iloc[train].groupby(\"Attrition_Flag\").size().to_frame(' ')\n",
    "df_pie = [int(i) for i in df_pie.values]\n",
    "plt.pie(df_pie, labels = ['Attrited Customer', 'Existing Customer'], colors = sns.color_palette('Set2'),\n",
    "        autopct='%.0f%%')"
   ]
  },
  {
   "cell_type": "code",
   "execution_count": 97,
   "metadata": {},
   "outputs": [
    {
     "data": {
      "text/plain": [
       "([<matplotlib.patches.Wedge at 0x1b84103b100>,\n",
       "  <matplotlib.patches.Wedge at 0x1b84103b7f0>],\n",
       " [Text(-0.9655770195244334, 0.5269354982977633, 'Attrited Customer'),\n",
       "  Text(0.9655770688596911, -0.5269354078939161, 'Existing Customer')],\n",
       " [Text(-0.5266783742860546, 0.2874193627078709, '84%'),\n",
       "  Text(0.526678401196195, -0.28741931339668153, '16%')])"
      ]
     },
     "execution_count": 97,
     "metadata": {},
     "output_type": "execute_result"
    },
    {
     "data": {
      "image/png": "[encoded data removed]",
      "text/plain": [
       "<Figure size 432x288 with 1 Axes>"
      ]
     },
     "metadata": {},
     "output_type": "display_data"
    }
   ],
   "source": [
    "df_pie = data.iloc[test].groupby(\"Attrition_Flag\").size().to_frame(' ')\n",
    "df_pie = [int(i) for i in df_pie.values]\n",
    "plt.pie(df_pie, labels = ['Attrited Customer', 'Existing Customer'], colors = sns.color_palette('Set2'),\n",
    "        autopct='%.0f%%')"
   ]
  },
  {
   "cell_type": "code",
   "execution_count": null,
   "metadata": {},
   "outputs": [],
   "source": [
    "# Since data distribution after random splitting is consistent we can proceed with trying out our models"
   ]
  },
  {
   "cell_type": "markdown",
   "metadata": {},
   "source": [
    "# Classification"
   ]
  },
  {
   "cell_type": "markdown",
   "metadata": {},
   "source": [
    "## Classification with KNN"
   ]
  },
  {
   "cell_type": "code",
   "execution_count": 15,
   "metadata": {},
   "outputs": [],
   "source": [
    "from sklearn.metrics import confusion_matrix\n",
    "from sklearn.neighbors import KNeighborsClassifier\n",
    "import seaborn as sns"
   ]
  },
  {
   "cell_type": "code",
   "execution_count": 16,
   "metadata": {},
   "outputs": [
    {
     "name": "stdout",
     "output_type": "stream",
     "text": [
      "Test Accuracy:  0.8217283950617283 with  1  neighbros \n",
      " ------------------\n",
      "Test Accuracy:  0.8207407407407408 with  3  neighbros \n",
      " ------------------\n",
      "Test Accuracy:  0.8246913580246914 with  5  neighbros \n",
      " ------------------\n",
      "Test Accuracy:  0.8212345679012346 with  7  neighbros \n",
      " ------------------\n",
      "Test Accuracy:  0.8207407407407408 with  9  neighbros \n",
      " ------------------\n",
      "Test Accuracy:  0.8202469135802469 with  11  neighbros \n",
      " ------------------\n",
      "Test Accuracy:  0.8217283950617283 with  13  neighbros \n",
      " ------------------\n",
      "Test Accuracy:  0.8202469135802469 with  15  neighbros \n",
      " ------------------\n",
      "Test Accuracy:  0.8192592592592592 with  17  neighbros \n",
      " ------------------\n",
      "Test Accuracy:  0.8202469135802469 with  19  neighbros \n",
      " ------------------\n",
      "Test Accuracy:  0.8197530864197531 with  21  neighbros \n",
      " ------------------\n",
      "Test Accuracy:  0.8187654320987654 with  23  neighbros \n",
      " ------------------\n",
      "Test Accuracy:  0.8197530864197531 with  25  neighbros \n",
      " ------------------\n",
      "Test Accuracy:  0.8182716049382716 with  27  neighbros \n",
      " ------------------\n",
      "Test Accuracy:  0.8177777777777778 with  29  neighbros \n",
      " ------------------\n",
      "Test Accuracy:  0.8177777777777778 with  31  neighbros \n",
      " ------------------\n",
      "Test Accuracy:  0.8182716049382716 with  33  neighbros \n",
      " ------------------\n",
      "Test Accuracy:  0.8187654320987654 with  35  neighbros \n",
      " ------------------\n",
      "Test Accuracy:  0.8182716049382716 with  37  neighbros \n",
      " ------------------\n",
      "Test Accuracy:  0.817283950617284 with  39  neighbros \n",
      " ------------------\n",
      "Test Accuracy:  0.8177777777777778 with  41  neighbros \n",
      " ------------------\n",
      "Test Accuracy:  0.8187654320987654 with  43  neighbros \n",
      " ------------------\n",
      "Test Accuracy:  0.8192592592592592 with  45  neighbros \n",
      " ------------------\n",
      "Test Accuracy:  0.8187654320987654 with  47  neighbros \n",
      " ------------------\n",
      "Test Accuracy:  0.8182716049382716 with  49  neighbros \n",
      " ------------------\n",
      "Test Accuracy:  0.8177777777777778 with  51  neighbros \n",
      " ------------------\n",
      "Test Accuracy:  0.817283950617284 with  53  neighbros \n",
      " ------------------\n",
      "Test Accuracy:  0.8177777777777778 with  55  neighbros \n",
      " ------------------\n",
      "Test Accuracy:  0.8187654320987654 with  57  neighbros \n",
      " ------------------\n",
      "Test Accuracy:  0.8182716049382716 with  59  neighbros \n",
      " ------------------\n",
      "Test Accuracy:  0.8167901234567901 with  61  neighbros \n",
      " ------------------\n",
      "Test Accuracy:  0.8167901234567901 with  63  neighbros \n",
      " ------------------\n",
      "Test Accuracy:  0.8162962962962963 with  65  neighbros \n",
      " ------------------\n",
      "Test Accuracy:  0.8167901234567901 with  67  neighbros \n",
      " ------------------\n",
      "Test Accuracy:  0.8177777777777778 with  69  neighbros \n",
      " ------------------\n",
      "Test Accuracy:  0.817283950617284 with  71  neighbros \n",
      " ------------------\n",
      "Test Accuracy:  0.8167901234567901 with  73  neighbros \n",
      " ------------------\n",
      "Test Accuracy:  0.8177777777777778 with  75  neighbros \n",
      " ------------------\n",
      "Test Accuracy:  0.817283950617284 with  77  neighbros \n",
      " ------------------\n",
      "Test Accuracy:  0.8177777777777778 with  79  neighbros \n",
      " ------------------\n",
      "Test Accuracy:  0.817283950617284 with  81  neighbros \n",
      " ------------------\n",
      "Test Accuracy:  0.8177777777777778 with  83  neighbros \n",
      " ------------------\n",
      "Test Accuracy:  0.8182716049382716 with  85  neighbros \n",
      " ------------------\n",
      "Test Accuracy:  0.817283950617284 with  87  neighbros \n",
      " ------------------\n",
      "Test Accuracy:  0.817283950617284 with  89  neighbros \n",
      " ------------------\n"
     ]
    },
    {
     "data": {
      "text/plain": [
       "Text(0, 0.5, 'Accuracy')"
      ]
     },
     "execution_count": 16,
     "metadata": {},
     "output_type": "execute_result"
    },
    {
     "data": {
      "image/png": "[encoded data removed]",
      "text/plain": [
       "<Figure size 432x288 with 1 Axes>"
      ]
     },
     "metadata": {
      "needs_background": "light"
     },
     "output_type": "display_data"
    }
   ],
   "source": [
    "# Look at the way accuracy changes as the number of neighbors increases up to the square root of the \n",
    "# number of observations in our dataset\n",
    "\n",
    "l = range(int(round(np.sqrt(len(train_y)))))\n",
    "n = [i for i in l if i%2 != 0]\n",
    "n_accuracy = []\n",
    "for neighbors in n:\n",
    "    clf = KNeighborsClassifier(n_neighbors = neighbors)\n",
    "    clf.fit(train_X, train_y)\n",
    "    predicted_churn = clf.predict(test_X)\n",
    "    n_accuracy.append(np.sum(predicted_churn == test_y) / len(test_y))\n",
    "    print(\"Test Accuracy: \" ,np.sum(predicted_churn == test_y) / len(test_y), 'with ',neighbors, ' neighbros',\n",
    "          '\\n ------------------')\n",
    "sns.lineplot(x = n, y = n_accuracy)\n",
    "plt.xlabel('Number of Neighbors')\n",
    "plt.ylabel('Accuracy')    "
   ]
  },
  {
   "cell_type": "code",
   "execution_count": 17,
   "metadata": {},
   "outputs": [
    {
     "name": "stdout",
     "output_type": "stream",
     "text": [
      "Number of neighbors that maximizes test accuracy:  5\n"
     ]
    }
   ],
   "source": [
    "total = dict(zip(n,n_accuracy))\n",
    "arg_max = [i for i in range(len(n_accuracy)) if n_accuracy[i] == np.max(n_accuracy)]\n",
    "print('Number of neighbors that maximizes test accuracy: ', n[arg_max[0]])"
   ]
  },
  {
   "cell_type": "code",
   "execution_count": 18,
   "metadata": {},
   "outputs": [
    {
     "name": "stdout",
     "output_type": "stream",
     "text": [
      "Test Accuracy:  0.8246913580246914\n"
     ]
    },
    {
     "data": {
      "image/png": "[encoded data removed]",
      "text/plain": [
       "<Figure size 432x288 with 1 Axes>"
      ]
     },
     "metadata": {
      "needs_background": "light"
     },
     "output_type": "display_data"
    }
   ],
   "source": [
    "clf = KNeighborsClassifier(n_neighbors = 5)\n",
    "clf.fit(train_X, train_y)\n",
    "predicted_churn = clf.predict(test_X)\n",
    "mat = confusion_matrix(test_y, predicted_churn)\n",
    "sns.heatmap(mat.T, square=True, annot=True, fmt='d', cbar=False)\n",
    "plt.xlabel('true label')\n",
    "plt.ylabel('predicted label')\n",
    "# accuracy\n",
    "# print(\"Train Accuracy\")\n",
    "print(\"Test Accuracy: \" , np.sum(predicted_churn == test_y) / len(test_y))"
   ]
  },
  {
   "cell_type": "markdown",
   "metadata": {},
   "source": [
    "## Classification with SVM"
   ]
  },
  {
   "cell_type": "code",
   "execution_count": 85,
   "metadata": {},
   "outputs": [],
   "source": [
    "from sklearn import svm"
   ]
  },
  {
   "cell_type": "markdown",
   "metadata": {},
   "source": [
    "### Linear Kernel"
   ]
  },
  {
   "cell_type": "code",
   "execution_count": 86,
   "metadata": {},
   "outputs": [
    {
     "name": "stdout",
     "output_type": "stream",
     "text": [
      "Accuracy  0.825679012345679\n"
     ]
    },
    {
     "data": {
      "image/png": "[encoded data removed]",
      "text/plain": [
       "<Figure size 432x288 with 1 Axes>"
      ]
     },
     "metadata": {
      "needs_background": "light"
     },
     "output_type": "display_data"
    }
   ],
   "source": [
    "linear_clf = svm.SVC(kernel='linear')\n",
    "linear_clf.fit(train_X, train_y)\n",
    "predicted_churn = linear_clf.predict(test_X)\n",
    "mat = confusion_matrix(test_y, predicted_churn)\n",
    "sns.heatmap(mat.T, square=True, annot=True, fmt='d', cbar=False)\n",
    "plt.xlabel('true label')\n",
    "plt.ylabel('predicted label')\n",
    "print(\"Accuracy \" ,np.sum(predicted_churn == test_y) / len(test_y))"
   ]
  },
  {
   "cell_type": "markdown",
   "metadata": {},
   "source": [
    "### Polinomial Kernel"
   ]
  },
  {
   "cell_type": "code",
   "execution_count": 87,
   "metadata": {},
   "outputs": [
    {
     "name": "stdout",
     "output_type": "stream",
     "text": [
      "Accuracy  0.8\n"
     ]
    },
    {
     "data": {
      "image/png": "[encoded data removed]",
      "text/plain": [
       "<Figure size 432x288 with 1 Axes>"
      ]
     },
     "metadata": {
      "needs_background": "light"
     },
     "output_type": "display_data"
    }
   ],
   "source": [
    "polynomial_clf = svm.SVC(kernel='poly')\n",
    "polynomial_clf.fit(train_X, train_y)\n",
    "predicted_churn = polynomial_clf.predict(test_X)\n",
    "mat = confusion_matrix(test_y, predicted_churn)\n",
    "sns.heatmap(mat.T, square=True, annot=True, fmt='d', cbar=False)\n",
    "plt.xlabel('true label')\n",
    "plt.ylabel('predicted label')\n",
    "print(\"Accuracy \" ,np.sum(predicted_churn == test_y) / len(test_y))"
   ]
  },
  {
   "cell_type": "markdown",
   "metadata": {},
   "source": [
    "### RBF Kernel"
   ]
  },
  {
   "cell_type": "code",
   "execution_count": 89,
   "metadata": {},
   "outputs": [
    {
     "name": "stdout",
     "output_type": "stream",
     "text": [
      "Accuracy  0.8\n"
     ]
    },
    {
     "data": {
      "image/png": "[encoded data removed]",
      "text/plain": [
       "<Figure size 432x288 with 1 Axes>"
      ]
     },
     "metadata": {
      "needs_background": "light"
     },
     "output_type": "display_data"
    }
   ],
   "source": [
    "radial_clf = svm.SVC(kernel='rbf')\n",
    "radial_clf.fit(train_X, train_y)\n",
    "predicted_churn = radial_clf.predict(test_X)\n",
    "mat = confusion_matrix(test_y, predicted_churn)\n",
    "sns.heatmap(mat.T, square=True, annot=True, fmt='d', cbar=False)\n",
    "plt.xlabel('true label')\n",
    "plt.ylabel('predicted label')\n",
    "print(\"Accuracy \" ,np.sum(predicted_churn == test_y) / len(test_y))"
   ]
  },
  {
   "cell_type": "markdown",
   "metadata": {},
   "source": [
    "# Explore the results using PCA"
   ]
  },
  {
   "cell_type": "code",
   "execution_count": 100,
   "metadata": {},
   "outputs": [],
   "source": [
    "from sklearn.decomposition import PCA\n",
    "pca = PCA(n_components=5)\n",
    "pca_X = pca.fit_transform(data.iloc[:,1:10].values)\n",
    "pca_train = pca_X[:train,:]\n",
    "pca_test = pca_X[train:,:]"
   ]
  },
  {
   "cell_type": "code",
   "execution_count": 91,
   "metadata": {},
   "outputs": [
    {
     "name": "stdout",
     "output_type": "stream",
     "text": [
      "Accuracy  0.8\n"
     ]
    },
    {
     "data": {
      "image/png": "[encoded data removed]",
      "text/plain": [
       "<Figure size 432x288 with 1 Axes>"
      ]
     },
     "metadata": {
      "needs_background": "light"
     },
     "output_type": "display_data"
    }
   ],
   "source": [
    "linear_clf = svm.SVC(kernel='linear')\n",
    "linear_clf.fit(pca_train, train_y)\n",
    "predicted_churn = linear_clf.predict(pca_test)\n",
    "mat = confusion_matrix(test_y, predicted_churn)\n",
    "sns.heatmap(mat.T, square=True, annot=True, fmt='d', cbar=False)\n",
    "plt.xlabel('true label')\n",
    "plt.ylabel('predicted label')\n",
    "print(\"Accuracy \" ,np.sum(predicted_churn == test_y) / len(test_y))"
   ]
  },
  {
   "cell_type": "code",
   "execution_count": 101,
   "metadata": {},
   "outputs": [
    {
     "name": "stdout",
     "output_type": "stream",
     "text": [
      "Accuracy  0.8\n"
     ]
    },
    {
     "data": {
      "image/png": "[encoded data removed]",
      "text/plain": [
       "<Figure size 432x288 with 1 Axes>"
      ]
     },
     "metadata": {
      "needs_background": "light"
     },
     "output_type": "display_data"
    }
   ],
   "source": [
    "polynomial_clf = svm.SVC(kernel='poly')\n",
    "polynomial_clf.fit(pca_train, train_y)\n",
    "predicted_churn = polynomial_clf.predict(pca_test)\n",
    "mat = confusion_matrix(test_y, predicted_churn)\n",
    "sns.heatmap(mat.T, square=True, annot=True, fmt='d', cbar=False)\n",
    "plt.xlabel('true label')\n",
    "plt.ylabel('predicted label')\n",
    "print(\"Accuracy \" ,np.sum(predicted_churn == test_y) / len(test_y))"
   ]
  },
  {
   "cell_type": "code",
   "execution_count": 102,
   "metadata": {},
   "outputs": [
    {
     "name": "stdout",
     "output_type": "stream",
     "text": [
      "Accuracy  0.8\n"
     ]
    },
    {
     "data": {
      "image/png": "[encoded data removed]",
      "text/plain": [
       "<Figure size 432x288 with 1 Axes>"
      ]
     },
     "metadata": {
      "needs_background": "light"
     },
     "output_type": "display_data"
    }
   ],
   "source": [
    "radial_clf = svm.SVC(kernel='rbf')\n",
    "radial_clf.fit(pca_train, train_y)\n",
    "predicted_churn = radial_clf.predict(pca_test)\n",
    "mat = confusion_matrix(test_y, predicted_churn)\n",
    "sns.heatmap(mat.T, square=True, annot=True, fmt='d', cbar=False)\n",
    "plt.xlabel('true label')\n",
    "plt.ylabel('predicted label')\n",
    "print(\"Accuracy \" ,np.sum(predicted_churn == test_y) / len(test_y))"
   ]
  }
 ],
 "metadata": {
  "kernelspec": {
   "display_name": "Python 3",
   "language": "python",
   "name": "python3"
  },
  "language_info": {
   "codemirror_mode": {
    "name": "ipython",
    "version": 3
   },
   "file_extension": ".py",
   "mimetype": "text/x-python",
   "name": "python",
   "nbconvert_exporter": "python",
   "pygments_lexer": "ipython3",
   "version": "3.8.5"
  }
 },
 "nbformat": 4,
 "nbformat_minor": 4
}
