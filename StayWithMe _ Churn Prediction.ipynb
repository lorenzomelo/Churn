{
 "cells": [
  {
   "cell_type": "markdown",
   "metadata": {},
   "source": [
    "# StayWithMe | Churn Prediction\n",
    "### Lorenzo Meloncelli - Valerio Schettini - Jany Khan Gony - Carlo Ardito\n",
    "\n"
   ]
  },
  {
   "cell_type": "markdown",
   "metadata": {},
   "source": [
    "### Introduction.\n",
    "StayWithMe (SWM) Bank is very worried about some of its customers leaving their credit card service.\n",
    "They hired you to predict who is going to leave, as this is information could be very valuable to offer better services and conditions to customers that are thinking to leave the bank.\n",
    "\n",
    "### Dataset.\n",
    "The dataset is available on https://www.dropbox.com/s/7nwimmta836si5f/churn.csv?dl=0."
   ]
  },
  {
   "cell_type": "code",
   "execution_count": 23,
   "metadata": {},
   "outputs": [],
   "source": [
    "import pandas as pd\n",
    "import numpy as np\n",
    "import seaborn as sns\n",
    "import matplotlib.pyplot as plt"
   ]
  },
  {
   "cell_type": "markdown",
   "metadata": {},
   "source": [
    "Load the dataset and remove the unnecessary variables"
   ]
  },
  {
   "cell_type": "code",
   "execution_count": 16,
   "metadata": {},
   "outputs": [],
   "source": [
    "data = pd.read_csv(\"churn.csv\")\n",
    "data = data.drop(data.columns[0:2], axis = 1)"
   ]
  },
  {
   "cell_type": "code",
   "execution_count": 17,
   "metadata": {},
   "outputs": [
    {
     "data": {
      "text/html": [
       "<div>\n",
       "<style scoped>\n",
       "    .dataframe tbody tr th:only-of-type {\n",
       "        vertical-align: middle;\n",
       "    }\n",
       "\n",
       "    .dataframe tbody tr th {\n",
       "        vertical-align: top;\n",
       "    }\n",
       "\n",
       "    .dataframe thead th {\n",
       "        text-align: right;\n",
       "    }\n",
       "</style>\n",
       "<table border=\"1\" class=\"dataframe\">\n",
       "  <thead>\n",
       "    <tr style=\"text-align: right;\">\n",
       "      <th></th>\n",
       "      <th>Attrition_Flag</th>\n",
       "      <th>Customer_Age</th>\n",
       "      <th>Gender</th>\n",
       "      <th>Dependent_count</th>\n",
       "      <th>Education_Level</th>\n",
       "      <th>Marital_Status</th>\n",
       "      <th>Income_Category</th>\n",
       "      <th>Card_Category</th>\n",
       "      <th>Months_on_book</th>\n",
       "      <th>Total_Relationship_Count</th>\n",
       "      <th>Months_Inactive_12_mon</th>\n",
       "      <th>Contacts_Count_12_mon</th>\n",
       "      <th>Credit_Limit</th>\n",
       "      <th>Total_Trans_Amt</th>\n",
       "      <th>Total_Trans_Ct</th>\n",
       "      <th>Avg_Utilization_Ratio</th>\n",
       "    </tr>\n",
       "  </thead>\n",
       "  <tbody>\n",
       "    <tr>\n",
       "      <th>0</th>\n",
       "      <td>Existing Customer</td>\n",
       "      <td>45</td>\n",
       "      <td>M</td>\n",
       "      <td>3</td>\n",
       "      <td>High School</td>\n",
       "      <td>Married</td>\n",
       "      <td>$60K - $80K</td>\n",
       "      <td>Blue</td>\n",
       "      <td>39</td>\n",
       "      <td>5</td>\n",
       "      <td>1</td>\n",
       "      <td>3</td>\n",
       "      <td>12691.0</td>\n",
       "      <td>1144</td>\n",
       "      <td>42</td>\n",
       "      <td>1.01</td>\n",
       "    </tr>\n",
       "    <tr>\n",
       "      <th>1</th>\n",
       "      <td>Existing Customer</td>\n",
       "      <td>49</td>\n",
       "      <td>F</td>\n",
       "      <td>5</td>\n",
       "      <td>Graduate</td>\n",
       "      <td>Single</td>\n",
       "      <td>Less than $40K</td>\n",
       "      <td>Blue</td>\n",
       "      <td>44</td>\n",
       "      <td>6</td>\n",
       "      <td>1</td>\n",
       "      <td>2</td>\n",
       "      <td>8256.0</td>\n",
       "      <td>1291</td>\n",
       "      <td>33</td>\n",
       "      <td>1.45</td>\n",
       "    </tr>\n",
       "    <tr>\n",
       "      <th>2</th>\n",
       "      <td>Existing Customer</td>\n",
       "      <td>51</td>\n",
       "      <td>M</td>\n",
       "      <td>3</td>\n",
       "      <td>Graduate</td>\n",
       "      <td>Married</td>\n",
       "      <td>$80K - $120K</td>\n",
       "      <td>Blue</td>\n",
       "      <td>36</td>\n",
       "      <td>4</td>\n",
       "      <td>1</td>\n",
       "      <td>0</td>\n",
       "      <td>3418.0</td>\n",
       "      <td>1887</td>\n",
       "      <td>20</td>\n",
       "      <td>0.00</td>\n",
       "    </tr>\n",
       "    <tr>\n",
       "      <th>3</th>\n",
       "      <td>Existing Customer</td>\n",
       "      <td>40</td>\n",
       "      <td>F</td>\n",
       "      <td>4</td>\n",
       "      <td>High School</td>\n",
       "      <td>Unknown</td>\n",
       "      <td>Less than $40K</td>\n",
       "      <td>Blue</td>\n",
       "      <td>34</td>\n",
       "      <td>3</td>\n",
       "      <td>4</td>\n",
       "      <td>1</td>\n",
       "      <td>3313.0</td>\n",
       "      <td>1171</td>\n",
       "      <td>20</td>\n",
       "      <td>1.16</td>\n",
       "    </tr>\n",
       "    <tr>\n",
       "      <th>4</th>\n",
       "      <td>Existing Customer</td>\n",
       "      <td>40</td>\n",
       "      <td>M</td>\n",
       "      <td>3</td>\n",
       "      <td>Uneducated</td>\n",
       "      <td>Married</td>\n",
       "      <td>$60K - $80K</td>\n",
       "      <td>Blue</td>\n",
       "      <td>21</td>\n",
       "      <td>5</td>\n",
       "      <td>1</td>\n",
       "      <td>0</td>\n",
       "      <td>4716.0</td>\n",
       "      <td>816</td>\n",
       "      <td>28</td>\n",
       "      <td>0.00</td>\n",
       "    </tr>\n",
       "  </tbody>\n",
       "</table>\n",
       "</div>"
      ],
      "text/plain": [
       "      Attrition_Flag  Customer_Age Gender  Dependent_count Education_Level  \\\n",
       "0  Existing Customer            45      M                3     High School   \n",
       "1  Existing Customer            49      F                5        Graduate   \n",
       "2  Existing Customer            51      M                3        Graduate   \n",
       "3  Existing Customer            40      F                4     High School   \n",
       "4  Existing Customer            40      M                3      Uneducated   \n",
       "\n",
       "  Marital_Status Income_Category Card_Category  Months_on_book  \\\n",
       "0        Married     $60K - $80K          Blue              39   \n",
       "1         Single  Less than $40K          Blue              44   \n",
       "2        Married    $80K - $120K          Blue              36   \n",
       "3        Unknown  Less than $40K          Blue              34   \n",
       "4        Married     $60K - $80K          Blue              21   \n",
       "\n",
       "   Total_Relationship_Count  Months_Inactive_12_mon  Contacts_Count_12_mon  \\\n",
       "0                         5                       1                      3   \n",
       "1                         6                       1                      2   \n",
       "2                         4                       1                      0   \n",
       "3                         3                       4                      1   \n",
       "4                         5                       1                      0   \n",
       "\n",
       "   Credit_Limit  Total_Trans_Amt  Total_Trans_Ct  Avg_Utilization_Ratio  \n",
       "0       12691.0             1144              42                   1.01  \n",
       "1        8256.0             1291              33                   1.45  \n",
       "2        3418.0             1887              20                   0.00  \n",
       "3        3313.0             1171              20                   1.16  \n",
       "4        4716.0              816              28                   0.00  "
      ]
     },
     "execution_count": 17,
     "metadata": {},
     "output_type": "execute_result"
    }
   ],
   "source": [
    "data.head()"
   ]
  },
  {
   "cell_type": "markdown",
   "metadata": {},
   "source": [
    "Check for missing values"
   ]
  },
  {
   "cell_type": "code",
   "execution_count": 18,
   "metadata": {},
   "outputs": [
    {
     "data": {
      "text/plain": [
       "Attrition_Flag              0\n",
       "Customer_Age                0\n",
       "Gender                      0\n",
       "Dependent_count             0\n",
       "Education_Level             0\n",
       "Marital_Status              0\n",
       "Income_Category             0\n",
       "Card_Category               0\n",
       "Months_on_book              0\n",
       "Total_Relationship_Count    0\n",
       "Months_Inactive_12_mon      0\n",
       "Contacts_Count_12_mon       0\n",
       "Credit_Limit                0\n",
       "Total_Trans_Amt             0\n",
       "Total_Trans_Ct              0\n",
       "Avg_Utilization_Ratio       0\n",
       "dtype: int64"
      ]
     },
     "execution_count": 18,
     "metadata": {},
     "output_type": "execute_result"
    }
   ],
   "source": [
    "data.isna().sum()"
   ]
  },
  {
   "cell_type": "markdown",
   "metadata": {},
   "source": [
    "Check for the balance of our data. What portion of our observations refers to a customer that has abandoned the service? \n",
    "What portion doesn't?"
   ]
  },
  {
   "cell_type": "code",
   "execution_count": 19,
   "metadata": {},
   "outputs": [
    {
     "data": {
      "text/plain": [
       "([<matplotlib.patches.Wedge at 0x7fe532946250>,\n",
       "  <matplotlib.patches.Wedge at 0x7fe532968850>],\n",
       " [Text(0.962837119553905, 0.5319254470404094, 'Attrited Customer'),\n",
       "  Text(-0.9628370946526768, -0.5319254921140673, 'Existing Customer')],\n",
       " [Text(0.525183883393039, 0.29014115293113235, '16%'),\n",
       "  Text(-0.5251838698105509, -0.2901411775167639, '84%')])"
      ]
     },
     "execution_count": 19,
     "metadata": {},
     "output_type": "execute_result"
    },
    {
     "data": {
      "image/png": "[encoded data removed]",
      "text/plain": [
       "<Figure size 432x288 with 1 Axes>"
      ]
     },
     "metadata": {},
     "output_type": "display_data"
    }
   ],
   "source": [
    "df_pie = data.groupby(\"Attrition_Flag\").size().to_frame(' ')\n",
    "plt.pie([1627, 8500], labels = ['Attrited Customer', 'Existing Customer'], colors = sns.color_palette('Set2', 2), autopct='%.0f%%')"
   ]
  },
  {
   "cell_type": "markdown",
   "metadata": {},
   "source": [
    "Same concept as above, visualized through a barplot."
   ]
  },
  {
   "cell_type": "code",
   "execution_count": 7,
   "metadata": {},
   "outputs": [
    {
     "name": "stderr",
     "output_type": "stream",
     "text": [
      "posx and posy should be finite values\n",
      "posx and posy should be finite values\n",
      "posx and posy should be finite values\n",
      "posx and posy should be finite values\n"
     ]
    },
    {
     "data": {
      "image/png": "[encoded data removed]",
      "text/plain": [
       "<Figure size 432x288 with 1 Axes>"
      ]
     },
     "metadata": {
      "needs_background": "light"
     },
     "output_type": "display_data"
    }
   ],
   "source": [
    "df_plt = data[data['Attrition_Flag'].isin(['Attrited Customer', 'Existing Customer']) ]\n",
    "ax = sns.countplot(data = df_plt, x = \"Attrition_Flag\", hue=\"Attrition_Flag\", palette=\"Set2\")\n",
    "n_records = float(len(data))\n",
    "for p in ax.patches:\n",
    "    height = p.get_height()\n",
    "    ax.text(p.get_x()+p.get_width()/2., height + 1, '{:1.2%}'.format(height/n_records), ha=\"center\", fontsize =7)\n",
    " "
   ]
  },
  {
   "cell_type": "markdown",
   "metadata": {},
   "source": [
    "A deeper dive into the divison between churn and non churn customer according to the value of the total_relationship_count variable. In the following plot are shown the absolute number of customer belonging to each category rather than the corresponding percentage."
   ]
  },
  {
   "cell_type": "code",
   "execution_count": 8,
   "metadata": {},
   "outputs": [
    {
     "data": {
      "text/plain": [
       "<AxesSubplot:xlabel='Total_Relationship_Count', ylabel='count'>"
      ]
     },
     "execution_count": 8,
     "metadata": {},
     "output_type": "execute_result"
    },
    {
     "data": {
      "image/png": "[encoded data removed]",
      "text/plain": [
       "<Figure size 432x288 with 1 Axes>"
      ]
     },
     "metadata": {
      "needs_background": "light"
     },
     "output_type": "display_data"
    }
   ],
   "source": [
    "data[\"Total_Relationship_Count\"].value_counts()\n",
    "df_plt3 = data[data['Total_Relationship_Count'].isin([1,2,3,4,5,6])]\n",
    "sns.countplot(data = df_plt3, x = \"Total_Relationship_Count\", hue=\"Attrition_Flag\", palette=\"Set2\")  "
   ]
  },
  {
   "cell_type": "markdown",
   "metadata": {},
   "source": [
    "Same as above but with respect to the number of times the customer has been contacted in the last 12 months"
   ]
  },
  {
   "cell_type": "code",
   "execution_count": 9,
   "metadata": {},
   "outputs": [
    {
     "data": {
      "text/plain": [
       "<AxesSubplot:xlabel='Contacts_Count_12_mon', ylabel='count'>"
      ]
     },
     "execution_count": 9,
     "metadata": {},
     "output_type": "execute_result"
    },
    {
     "data": {
      "image/png": "[encoded data removed]",
      "text/plain": [
       "<Figure size 432x288 with 1 Axes>"
      ]
     },
     "metadata": {
      "needs_background": "light"
     },
     "output_type": "display_data"
    }
   ],
   "source": [
    "data[\"Contacts_Count_12_mon\"].value_counts()\n",
    "df_plt4 = data[data['Contacts_Count_12_mon'].isin([0,1,2,3,4,5,6])]\n",
    "sns.countplot(data = df_plt4, x = \"Contacts_Count_12_mon\", hue=\"Attrition_Flag\", palette=\"Set2\")  "
   ]
  },
  {
   "cell_type": "markdown",
   "metadata": {},
   "source": [
    "And for card category"
   ]
  },
  {
   "cell_type": "code",
   "execution_count": 10,
   "metadata": {},
   "outputs": [
    {
     "data": {
      "text/plain": [
       "<AxesSubplot:xlabel='Card_Category', ylabel='count'>"
      ]
     },
     "execution_count": 10,
     "metadata": {},
     "output_type": "execute_result"
    },
    {
     "data": {
      "image/png": "[encoded data removed]",
      "text/plain": [
       "<Figure size 432x288 with 1 Axes>"
      ]
     },
     "metadata": {
      "needs_background": "light"
     },
     "output_type": "display_data"
    }
   ],
   "source": [
    "data[\"Card_Category\"].value_counts()\n",
    "df_plt5 = data[data['Card_Category'].isin([\"Blue\", \"Silver\", \"Gold\", \"Platinum\"])]\n",
    "sns.countplot(data = df_plt4, x = \"Card_Category\", hue=\"Attrition_Flag\", palette=\"Set2\")  \n"
   ]
  },
  {
   "cell_type": "markdown",
   "metadata": {},
   "source": [
    "Total transaction amount"
   ]
  },
  {
   "cell_type": "code",
   "execution_count": 11,
   "metadata": {},
   "outputs": [
    {
     "data": {
      "text/plain": [
       "<AxesSubplot:xlabel='Total_Trans_Amt', ylabel='Count'>"
      ]
     },
     "execution_count": 11,
     "metadata": {},
     "output_type": "execute_result"
    },
    {
     "data": {
      "image/png": "[encoded data removed]",
      "text/plain": [
       "<Figure size 432x288 with 1 Axes>"
      ]
     },
     "metadata": {
      "needs_background": "light"
     },
     "output_type": "display_data"
    }
   ],
   "source": [
    "sns.histplot(data = data, x = \"Total_Trans_Amt\", hue = 'Attrition_Flag', multiple=\"stack\", palette=\"Set2\", kde=True) \n"
   ]
  },
  {
   "cell_type": "markdown",
   "metadata": {},
   "source": [
    "Average utilization ratio"
   ]
  },
  {
   "cell_type": "code",
   "execution_count": 12,
   "metadata": {},
   "outputs": [
    {
     "data": {
      "text/plain": [
       "<AxesSubplot:xlabel='Avg_Utilization_Ratio', ylabel='Count'>"
      ]
     },
     "execution_count": 12,
     "metadata": {},
     "output_type": "execute_result"
    },
    {
     "data": {
      "image/png": "[encoded data removed]",
      "text/plain": [
       "<Figure size 432x288 with 1 Axes>"
      ]
     },
     "metadata": {
      "needs_background": "light"
     },
     "output_type": "display_data"
    }
   ],
   "source": [
    "sns.histplot(data = data, x = \"Avg_Utilization_Ratio\", hue = 'Attrition_Flag', multiple=\"stack\", palette=\"Set2\", kde=True) \n"
   ]
  },
  {
   "cell_type": "markdown",
   "metadata": {},
   "source": [
    "Lastly, credit limit"
   ]
  },
  {
   "cell_type": "code",
   "execution_count": 13,
   "metadata": {},
   "outputs": [
    {
     "data": {
      "text/plain": [
       "<AxesSubplot:xlabel='Credit_Limit', ylabel='Count'>"
      ]
     },
     "execution_count": 13,
     "metadata": {},
     "output_type": "execute_result"
    },
    {
     "data": {
      "image/png": "[encoded data removed]",
      "text/plain": [
       "<Figure size 432x288 with 1 Axes>"
      ]
     },
     "metadata": {
      "needs_background": "light"
     },
     "output_type": "display_data"
    }
   ],
   "source": [
    "sns.histplot(data = data, x = \"Credit_Limit\", hue = 'Attrition_Flag', multiple=\"stack\", palette=\"Set2\", kde=True) "
   ]
  },
  {
   "cell_type": "markdown",
   "metadata": {},
   "source": [
    "Some further transformations are needed to transform categorical variables. In the following code we transform then into dummy variables\n",
    "and replace the attrition_flag with a 1 for churn and 0 for non-churn."
   ]
  },
  {
   "cell_type": "code",
   "execution_count": 20,
   "metadata": {},
   "outputs": [],
   "source": [
    "data = pd.get_dummies(data, columns = ['Education_Level', 'Gender', 'Marital_Status', 'Income_Category', 'Card_Category'])\n",
    "\n",
    "replace = {'Existing Customer' : 0, 'Attrited Customer' : 1}\n",
    "data = data.replace(replace)"
   ]
  },
  {
   "cell_type": "markdown",
   "metadata": {},
   "source": [
    "Finally, we replace outliers with the respective median."
   ]
  },
  {
   "cell_type": "code",
   "execution_count": 21,
   "metadata": {},
   "outputs": [],
   "source": [
    "cols = data.columns \n",
    "\n",
    "Q1 = data[cols].quantile(0.10)\n",
    "Q3 = data[cols].quantile(0.90)\n",
    "IQR = Q3 - Q1\n",
    "\n",
    "data = data[~((data[cols] < (Q1 - 1.5 * IQR)) |(data[cols] > (Q3 + 1.5 * IQR))).any(axis=1)]"
   ]
  },
  {
   "cell_type": "markdown",
   "metadata": {},
   "source": [
    "## Mean analysis\n",
    "For better visualization, create subsets made from variables whose values fall within a similar range\n"
   ]
  },
  {
   "cell_type": "code",
   "execution_count": 29,
   "metadata": {},
   "outputs": [
    {
     "data": {
      "text/plain": [
       "<AxesSubplot:ylabel='variables'>"
      ]
     },
     "execution_count": 29,
     "metadata": {},
     "output_type": "execute_result"
    },
    {
     "data": {
      "image/png": "[encoded data removed]",
      "text/plain": [
       "<Figure size 576x576 with 1 Axes>"
      ]
     },
     "metadata": {
      "needs_background": "light"
     },
     "output_type": "display_data"
    },
    {
     "data": {
      "image/png": "[encoded data removed]",
      "text/plain": [
       "<Figure size 576x576 with 1 Axes>"
      ]
     },
     "metadata": {
      "needs_background": "light"
     },
     "output_type": "display_data"
    },
    {
     "data": {
      "image/png": "[encoded data removed]",
      "text/plain": [
       "<Figure size 576x576 with 1 Axes>"
      ]
     },
     "metadata": {
      "needs_background": "light"
     },
     "output_type": "display_data"
    },
    {
     "data": {
      "image/png": "[encoded data removed]",
      "text/plain": [
       "<Figure size 576x576 with 1 Axes>"
      ]
     },
     "metadata": {
      "needs_background": "light"
     },
     "output_type": "display_data"
    }
   ],
   "source": [
    "avg_df_1 = data.filter(['Attrition_Flag', 'Education_Level_College',\n",
    "       'Education_Level_Doctorate', 'Education_Level_Graduate',\n",
    "       'Education_Level_High School', 'Education_Level_Post-Graduate',\n",
    "       'Education_Level_Uneducated', 'Education_Level_Unknown', 'Gender_F',\n",
    "       'Gender_M', 'Marital_Status_Divorced', 'Marital_Status_Married',\n",
    "       'Marital_Status_Single', 'Marital_Status_Unknown',\n",
    "       'Income_Category_$120K +', 'Income_Category_$40K - $60K',\n",
    "       'Income_Category_$60K - $80K', 'Income_Category_$80K - $120K',\n",
    "       'Income_Category_Less than $40K', 'Income_Category_Unknown',\n",
    "       'Card_Category_Blue', 'Card_Category_Gold', 'Card_Category_Platinum',\n",
    "       'Card_Category_Silver'], axis=1)\n",
    "\n",
    "avg_df_2 = data.filter(['Attrition_Flag', 'Customer_Age', 'Months_on_book', 'Total_Trans_Ct'], axis=1)\n",
    "avg_df_3 = data.filter(['Attrition_Flag', 'Dependent_count', 'Total_Relationship_Count', 'Months_Inactive_12_mon',\n",
    "                            'Contacts_Count_12_mon', 'Avg_Utilization_Ratio'], axis=1)\n",
    "avg_df_4 = data.filter(['Attrition_Flag', 'Credit_Limit', 'Total_Trans_Amt'], axis=1)\n",
    "\n",
    "\n",
    "# Group the dataset into those who have the attrition flag and those who don't. \n",
    "# For both groups compute the average value of each of the features present in the dataset.\n",
    "avg_df_1 = avg_df_1.groupby('Attrition_Flag').mean() \n",
    "avg_df_1.reset_index(drop=True, inplace=True)\n",
    "columns = list(avg_df_1.columns)\n",
    "avg_df_1 = avg_df_1.T\n",
    "avg_df_1[\"variables\"] = columns\n",
    "avg_df_1[\"difference\"] = abs(avg_df_1[0] - avg_df_1[1])\n",
    "sort_df_1 = avg_df_1.sort_values(by=['difference'], ascending=False) \n",
    "# Sort the results in descending order on the basis of the difference between the means of the two groups.\n",
    "difference_dataset_1 = sort_df_1.head(20)\n",
    "difference_dataset_1.plot(x=\"variables\", y=[0, 1], kind=\"barh\", color = [\"mediumaquamarine\", \"lightsalmon\"], figsize = (8,8))\n",
    "\n",
    "avg_df_2 = avg_df_2.groupby('Attrition_Flag').mean()\n",
    "avg_df_2.reset_index(drop=True, inplace=True)\n",
    "columns = list(avg_df_2.columns)\n",
    "avg_df_2 = avg_df_2.T\n",
    "avg_df_2[\"variables\"] = columns\n",
    "avg_df_2[\"difference\"] = abs(avg_df_2[0] - avg_df_2[1])\n",
    "sort_df_2 = avg_df_2.sort_values(by=['difference'], ascending=False)\n",
    "difference_dataset_2 = sort_df_2.head(20)\n",
    "difference_dataset_2.plot(x=\"variables\", y=[0, 1], kind=\"barh\", color = [\"mediumaquamarine\", \"lightsalmon\"], figsize = (8,8))\n",
    "\n",
    "avg_df_3 = avg_df_3.groupby('Attrition_Flag').mean()\n",
    "avg_df_3.reset_index(drop=True, inplace=True)\n",
    "columns = list(avg_df_3.columns)\n",
    "avg_df_3 = avg_df_3.T\n",
    "avg_df_3[\"variables\"] = columns\n",
    "avg_df_3[\"difference\"] = abs(avg_df_3[0] - avg_df_3[1])\n",
    "sort_df_3 = avg_df_3.sort_values(by=['difference'], ascending=False)\n",
    "difference_dataset_3 = sort_df_3.head(20)\n",
    "difference_dataset_3.plot(x=\"variables\", y=[0, 1], kind=\"barh\", color = [\"mediumaquamarine\", \"lightsalmon\"], figsize = (8,8))\n",
    "\n",
    "avg_df_4 = avg_df_4.groupby('Attrition_Flag').mean()\n",
    "avg_df_4.reset_index(drop=True, inplace=True)\n",
    "columns = list(avg_df_4.columns)\n",
    "avg_df_4 = avg_df_4.T\n",
    "avg_df_4[\"variables\"] = columns\n",
    "avg_df_4[\"difference\"] = abs(avg_df_4[0] - avg_df_4[1])\n",
    "sort_df_4 = avg_df_4.sort_values(by=['difference'], ascending=False)\n",
    "difference_dataset_4 = sort_df_4.head(20)\n",
    "difference_dataset_4.plot(x=\"variables\", y=[0, 1], kind=\"barh\", color = [\"mediumaquamarine\", \"lightsalmon\"], figsize = (8,8))\n"
   ]
  },
  {
   "cell_type": "markdown",
   "metadata": {},
   "source": [
    "## Analysis of the correlations"
   ]
  },
  {
   "cell_type": "markdown",
   "metadata": {},
   "source": [
    "Exploring the correlation between all the variables in our dataset by visualizing them through a heatmap of the correlation matrix."
   ]
  },
  {
   "cell_type": "code",
   "execution_count": 17,
   "metadata": {},
   "outputs": [
    {
     "name": "stderr",
     "output_type": "stream",
     "text": [
      "<ipython-input-17-9ca086cc5dae>:6: DeprecationWarning: `np.bool` is a deprecated alias for the builtin `bool`. To silence this warning, use `bool` by itself. Doing this will not modify any behavior and is safe. If you specifically wanted the numpy scalar type, use `np.bool_` here.\n",
      "Deprecated in NumPy 1.20; for more details and guidance: https://numpy.org/devdocs/release/1.20.0-notes.html#deprecations\n",
      "  upper_tri = abs_corr.where(np.triu(np.ones(abs_corr.shape),k=1).astype(np.bool))\n"
     ]
    },
    {
     "data": {
      "image/png": "[encoded data removed]",
      "text/plain": [
       "<Figure size 432x288 with 2 Axes>"
      ]
     },
     "metadata": {
      "needs_background": "light"
     },
     "output_type": "display_data"
    }
   ],
   "source": [
    "corr = data.corr()\n",
    "ax = sns.heatmap(corr, vmin=-1, vmax=1, center=0, cmap=sns.diverging_palette(20, 220, n=200), square=True)\n",
    "ax.set_xticklabels(ax.get_xticklabels(), rotation=45, horizontalalignment='right')\n",
    "\n",
    "abs_corr = data.corr().abs()\n",
    "upper_tri = abs_corr.where(np.triu(np.ones(abs_corr.shape),k=1).astype(np.bool))\n",
    "to_drop = [column for column in upper_tri.columns if any(upper_tri[column] > 0.8)]\n",
    "data = data.drop(to_drop, axis=1)"
   ]
  },
  {
   "cell_type": "markdown",
   "metadata": {},
   "source": [
    "## Undersampling"
   ]
  },
  {
   "cell_type": "markdown",
   "metadata": {},
   "source": [
    "Randomly select observation from the majority class and delete them "
   ]
  },
  {
   "cell_type": "code",
   "execution_count": 35,
   "metadata": {},
   "outputs": [
    {
     "data": {
      "text/plain": [
       "0    937\n",
       "1    937\n",
       "Name: Attrition_Flag, dtype: int64"
      ]
     },
     "execution_count": 35,
     "metadata": {},
     "output_type": "execute_result"
    }
   ],
   "source": [
    "import random\n",
    "class_2, class_1 = data.Attrition_Flag.value_counts() \n",
    "c2 = data[data['Attrition_Flag'] == 0]\n",
    "c1 = data[data['Attrition_Flag'] == 1]\n",
    "random.seed(42)\n",
    "df_2 = c2.sample(class_1) \n",
    "under_data = pd.concat([df_2,c1],axis=0)\n",
    "under_data.Attrition_Flag.value_counts()\n",
    "\n",
    "under_data['Attrition_Flag'].value_counts()"
   ]
  },
  {
   "cell_type": "markdown",
   "metadata": {},
   "source": [
    "## Train/test split"
   ]
  },
  {
   "cell_type": "code",
   "execution_count": 36,
   "metadata": {},
   "outputs": [
    {
     "name": "stdout",
     "output_type": "stream",
     "text": [
      "(1499,) (1499, 33) (375,) (375, 33)\n"
     ]
    }
   ],
   "source": [
    "from numpy.random import default_rng\n",
    "rng = default_rng(2022) \n",
    "train = rng.choice(int(under_data.shape[0]), size=int(round(under_data.shape[0]*0.8)), replace=False)\n",
    "test = [i for i in range(under_data.shape[0]) if i not in train]\n",
    "train_y, train_X = under_data.iloc[train, 0].values, under_data.iloc[train, 1:].values\n",
    "test_y, test_X = under_data.iloc[test, 0].values, under_data.iloc[test, 1:].values\n",
    "print(train_y.shape, train_X.shape, test_y.shape, test_X.shape)\n",
    "\n",
    "from sklearn.svm import SVC\n",
    "from sklearn.model_selection import GridSearchCV\n",
    "from sklearn.preprocessing import StandardScaler\n",
    "sc = StandardScaler()\n",
    "train_X = sc.fit_transform(train_X)\n",
    "test_X = sc.transform(test_X)"
   ]
  },
  {
   "cell_type": "markdown",
   "metadata": {},
   "source": [
    "## KNN"
   ]
  },
  {
   "cell_type": "markdown",
   "metadata": {},
   "source": [
    "Implement a K-Nearest Neighbor Classifier. Ise a for loop to check for the number of neighbors that maximizes the accuracy of the model. Print the result for each cycle, and finally plot the accuracy metric change according to the number of neighbor chosen to train the model at each step."
   ]
  },
  {
   "cell_type": "code",
   "execution_count": 20,
   "metadata": {},
   "outputs": [
    {
     "name": "stdout",
     "output_type": "stream",
     "text": [
      "Test Accuracy:  0.688 with 1 neighbros \n",
      " ------------------\n",
      "Test Accuracy:  0.7386666666666667 with 3 neighbros \n",
      " ------------------\n",
      "Test Accuracy:  0.7546666666666667 with 5 neighbros \n",
      " ------------------\n",
      "Test Accuracy:  0.7493333333333333 with 7 neighbros \n",
      " ------------------\n",
      "Test Accuracy:  0.7333333333333333 with 9 neighbros \n",
      " ------------------\n",
      "Test Accuracy:  0.7386666666666667 with 11 neighbros \n",
      " ------------------\n",
      "Test Accuracy:  0.744 with 13 neighbros \n",
      " ------------------\n",
      "Test Accuracy:  0.744 with 15 neighbros \n",
      " ------------------\n",
      "Test Accuracy:  0.7413333333333333 with 17 neighbros \n",
      " ------------------\n",
      "Test Accuracy:  0.7466666666666667 with 19 neighbros \n",
      " ------------------\n",
      "Test Accuracy:  0.736 with 21 neighbros \n",
      " ------------------\n",
      "Test Accuracy:  0.7386666666666667 with 23 neighbros \n",
      " ------------------\n",
      "Test Accuracy:  0.768 with 25 neighbros \n",
      " ------------------\n",
      "Test Accuracy:  0.7653333333333333 with 27 neighbros \n",
      " ------------------\n",
      "Test Accuracy:  0.7653333333333333 with 29 neighbros \n",
      " ------------------\n",
      "Test Accuracy:  0.7626666666666667 with 31 neighbros \n",
      " ------------------\n",
      "Test Accuracy:  0.7653333333333333 with 33 neighbros \n",
      " ------------------\n",
      "Test Accuracy:  0.7653333333333333 with 35 neighbros \n",
      " ------------------\n",
      "Test Accuracy:  0.7706666666666667 with 37 neighbros \n",
      " ------------------\n"
     ]
    },
    {
     "data": {
      "text/plain": [
       "Text(0, 0.5, 'Accuracy')"
      ]
     },
     "execution_count": 20,
     "metadata": {},
     "output_type": "execute_result"
    },
    {
     "data": {
      "image/png": "[encoded data removed]",
      "text/plain": [
       "<Figure size 432x288 with 1 Axes>"
      ]
     },
     "metadata": {
      "needs_background": "light"
     },
     "output_type": "display_data"
    }
   ],
   "source": [
    "from sklearn.neighbors import KNeighborsClassifier\n",
    "from sklearn.metrics import confusion_matrix\n",
    "\n",
    "l = range(int(round(np.sqrt(len(train_y)))))\n",
    "n = [i for i in l if i%2 != 0]\n",
    "n_accuracy = []\n",
    "for neighbors in n:\n",
    "    clf = KNeighborsClassifier(n_neighbors = neighbors)\n",
    "    clf.fit(train_X, train_y)\n",
    "    predicted_churn = clf.predict(test_X)\n",
    "    n_accuracy.append(np.sum(predicted_churn == test_y) / len(test_y))\n",
    "    print(\"Test Accuracy: \" , np.sum(predicted_churn == test_y) / len(test_y), 'with',neighbors, 'neighbros',\n",
    "          '\\n ------------------')\n",
    "sns.lineplot(x = n, y = n_accuracy)\n",
    "plt.xlabel('Number of Neighbors')\n",
    "plt.ylabel('Accuracy')    "
   ]
  },
  {
   "cell_type": "markdown",
   "metadata": {},
   "source": [
    "Get the k-value that maximizes acuracy"
   ]
  },
  {
   "cell_type": "code",
   "execution_count": 22,
   "metadata": {},
   "outputs": [
    {
     "name": "stdout",
     "output_type": "stream",
     "text": [
      "Number of neighbors that maximizes test accuracy: 37\n"
     ]
    }
   ],
   "source": [
    "total = dict(zip(n,n_accuracy))\n",
    "arg_max = [i for i in range(len(n_accuracy)) if n_accuracy[i] == np.max(n_accuracy)]\n",
    "print('Number of neighbors that maximizes test accuracy:', n[arg_max[0]])"
   ]
  },
  {
   "cell_type": "markdown",
   "metadata": {},
   "source": [
    "Implement the best model, print the relative metrics, and show them in a heatmap of the relative confusion matrix. The most important metrics for us are precision and recall."
   ]
  },
  {
   "cell_type": "code",
   "execution_count": 23,
   "metadata": {},
   "outputs": [
    {
     "name": "stdout",
     "output_type": "stream",
     "text": [
      "KNN - Accuracy on the training set: 0.7865243495663776\n",
      "KNN - Accuracy on the test set: 0.7706666666666667\n",
      "KNN - Precision: 0.7272727272727273\n",
      "KNN - Recall: 0.8397790055248618\n"
     ]
    }
   ],
   "source": [
    "knn_model = KNeighborsClassifier(n_neighbors = n[arg_max[0]])\n",
    "knn_model.fit(train_X, train_y)\n",
    "predicted_churn = clf.predict(test_X)\n",
    "\n",
    "from sklearn.metrics import accuracy_score, precision_score, recall_score\n",
    "accuracy_train = knn_model.score(train_X, train_y)\n",
    "print(\"KNN - Accuracy on the training set: \" + str(accuracy_train))\n",
    "print(\"KNN - Accuracy on the test set: \" + str(accuracy_score(test_y, predicted_churn)))\n",
    "print(\"KNN - Precision: \" + str(precision_score(test_y, predicted_churn)))\n",
    "print(\"KNN - Recall: \" + str(recall_score(test_y, predicted_churn)))"
   ]
  },
  {
   "cell_type": "code",
   "execution_count": 24,
   "metadata": {},
   "outputs": [
    {
     "data": {
      "text/plain": [
       "Text(91.68, 0.5, 'predicted label')"
      ]
     },
     "execution_count": 24,
     "metadata": {},
     "output_type": "execute_result"
    },
    {
     "data": {
      "image/png": "[encoded data removed]",
      "text/plain": [
       "<Figure size 432x288 with 1 Axes>"
      ]
     },
     "metadata": {
      "needs_background": "light"
     },
     "output_type": "display_data"
    }
   ],
   "source": [
    "mat = confusion_matrix(test_y, predicted_churn)\n",
    "sns.heatmap(mat.T, square=True, annot=True, fmt='d', cbar=False)\n",
    "plt.xlabel('true label')\n",
    "plt.ylabel('predicted label')"
   ]
  },
  {
   "cell_type": "markdown",
   "metadata": {},
   "source": [
    "Produce also the probabilities for the classification of the observations into each of the two categories."
   ]
  },
  {
   "cell_type": "code",
   "execution_count": 25,
   "metadata": {},
   "outputs": [
    {
     "data": {
      "text/html": [
       "<div>\n",
       "<style scoped>\n",
       "    .dataframe tbody tr th:only-of-type {\n",
       "        vertical-align: middle;\n",
       "    }\n",
       "\n",
       "    .dataframe tbody tr th {\n",
       "        vertical-align: top;\n",
       "    }\n",
       "\n",
       "    .dataframe thead th {\n",
       "        text-align: right;\n",
       "    }\n",
       "</style>\n",
       "<table border=\"1\" class=\"dataframe\">\n",
       "  <thead>\n",
       "    <tr style=\"text-align: right;\">\n",
       "      <th></th>\n",
       "      <th>0</th>\n",
       "      <th>1</th>\n",
       "    </tr>\n",
       "  </thead>\n",
       "  <tbody>\n",
       "    <tr>\n",
       "      <th>0</th>\n",
       "      <td>0.701041</td>\n",
       "      <td>0.298959</td>\n",
       "    </tr>\n",
       "    <tr>\n",
       "      <th>1</th>\n",
       "      <td>0.898841</td>\n",
       "      <td>0.101159</td>\n",
       "    </tr>\n",
       "    <tr>\n",
       "      <th>2</th>\n",
       "      <td>0.551872</td>\n",
       "      <td>0.448128</td>\n",
       "    </tr>\n",
       "    <tr>\n",
       "      <th>3</th>\n",
       "      <td>0.732683</td>\n",
       "      <td>0.267317</td>\n",
       "    </tr>\n",
       "    <tr>\n",
       "      <th>4</th>\n",
       "      <td>0.649044</td>\n",
       "      <td>0.350956</td>\n",
       "    </tr>\n",
       "  </tbody>\n",
       "</table>\n",
       "</div>"
      ],
      "text/plain": [
       "          0         1\n",
       "0  0.701041  0.298959\n",
       "1  0.898841  0.101159\n",
       "2  0.551872  0.448128\n",
       "3  0.732683  0.267317\n",
       "4  0.649044  0.350956"
      ]
     },
     "execution_count": 25,
     "metadata": {},
     "output_type": "execute_result"
    }
   ],
   "source": [
    "from sklearn.calibration import CalibratedClassifierCV\n",
    "# fit and calibrate model on training data\n",
    "clf_knn = CalibratedClassifierCV(knn_model, cv=3, method='sigmoid')  \n",
    "clf_knn.fit(train_X, train_y)\n",
    "# evaluate the model\n",
    "y_proba_knn = clf_knn.predict_proba(test_X)\n",
    "y_proba_knn = pd.DataFrame(y_proba_knn)\n",
    "y_proba_knn.head()\n",
    "\n",
    "#y_proba_knn['KNN PREDICTION'] = np.where(y_proba_knn[0] >= 0.5, 0, 1)"
   ]
  },
  {
   "cell_type": "markdown",
   "metadata": {},
   "source": [
    "## SVC"
   ]
  },
  {
   "cell_type": "markdown",
   "metadata": {},
   "source": [
    "### Tuning"
   ]
  },
  {
   "cell_type": "markdown",
   "metadata": {},
   "source": [
    "Implement a grid-search cross-validation to find the best parameters for our support vector classifier. Code is in string format because of the time it takes to run."
   ]
  },
  {
   "cell_type": "code",
   "execution_count": 31,
   "metadata": {},
   "outputs": [
    {
     "name": "stdout",
     "output_type": "stream",
     "text": [
      "{'C': 1, 'coef0': 0.5, 'degree': 3, 'gamma': 'auto', 'kernel': 'poly'}\n"
     ]
    }
   ],
   "source": [
    "'''\n",
    "modelsvc = SVC()\n",
    "param = {'kernel' : ('linear', 'poly', 'rbf', 'sigmoid'),'C' : [1,5,10],'degree' : [3,8],'coef0' : [0.01,10,0.5],'gamma' : ('auto','scale')}\n",
    "CV_svc= GridSearchCV(estimator=modelsvc, param_grid=param, cv=5)\n",
    "CV_svc.fit(train_X, train_y)\n",
    "print(CV_svc.best_params_)\n"
   ]
  },
  {
   "cell_type": "markdown",
   "metadata": {},
   "source": [
    "### Model"
   ]
  },
  {
   "cell_type": "markdown",
   "metadata": {},
   "source": [
    "Implement the model with the parameters previously found, print the results and the confusion matrix."
   ]
  },
  {
   "cell_type": "code",
   "execution_count": 26,
   "metadata": {},
   "outputs": [
    {
     "name": "stdout",
     "output_type": "stream",
     "text": [
      "SVC - Accuracy on the training set: 0.9259506337558372\n",
      "SVC - Accuracy on the test set: 0.856\n",
      "SVC - Precision: 0.8547486033519553\n",
      "SVC - Recall: 0.8453038674033149\n"
     ]
    }
   ],
   "source": [
    "svc_model = SVC(C=1, coef0=0.5, degree=3, gamma='scale', kernel='poly')\n",
    "svc_model.fit(train_X, train_y)\n",
    "y_pred_svc = svc_model.predict(test_X)\n",
    "\n",
    "accuracy_train = svc_model.score(train_X, train_y)\n",
    "print(\"SVC - Accuracy on the training set: \" + str(accuracy_train))\n",
    "print(\"SVC - Accuracy on the test set: \" + str(accuracy_score(test_y, y_pred_svc)))\n",
    "print(\"SVC - Precision: \" + str(precision_score(test_y, y_pred_svc)))\n",
    "print(\"SVC - Recall: \" + str(recall_score(test_y, y_pred_svc)))"
   ]
  },
  {
   "cell_type": "code",
   "execution_count": 27,
   "metadata": {},
   "outputs": [
    {
     "data": {
      "text/plain": [
       "Text(91.68, 0.5, 'predicted label')"
      ]
     },
     "execution_count": 27,
     "metadata": {},
     "output_type": "execute_result"
    },
    {
     "data": {
      "image/png": "[encoded data removed]",
      "text/plain": [
       "<Figure size 432x288 with 1 Axes>"
      ]
     },
     "metadata": {
      "needs_background": "light"
     },
     "output_type": "display_data"
    }
   ],
   "source": [
    "mat = confusion_matrix(test_y, y_pred_svc)\n",
    "sns.heatmap(mat.T, square=True, annot=True, fmt='d', cbar=False)\n",
    "plt.xlabel('true label')\n",
    "plt.ylabel('predicted label')"
   ]
  },
  {
   "cell_type": "code",
   "execution_count": 28,
   "metadata": {},
   "outputs": [
    {
     "data": {
      "text/html": [
       "<div>\n",
       "<style scoped>\n",
       "    .dataframe tbody tr th:only-of-type {\n",
       "        vertical-align: middle;\n",
       "    }\n",
       "\n",
       "    .dataframe tbody tr th {\n",
       "        vertical-align: top;\n",
       "    }\n",
       "\n",
       "    .dataframe thead th {\n",
       "        text-align: right;\n",
       "    }\n",
       "</style>\n",
       "<table border=\"1\" class=\"dataframe\">\n",
       "  <thead>\n",
       "    <tr style=\"text-align: right;\">\n",
       "      <th></th>\n",
       "      <th>0</th>\n",
       "      <th>1</th>\n",
       "    </tr>\n",
       "  </thead>\n",
       "  <tbody>\n",
       "    <tr>\n",
       "      <th>0</th>\n",
       "      <td>0.817163</td>\n",
       "      <td>0.182837</td>\n",
       "    </tr>\n",
       "    <tr>\n",
       "      <th>1</th>\n",
       "      <td>0.986658</td>\n",
       "      <td>0.013342</td>\n",
       "    </tr>\n",
       "    <tr>\n",
       "      <th>2</th>\n",
       "      <td>0.699232</td>\n",
       "      <td>0.300768</td>\n",
       "    </tr>\n",
       "    <tr>\n",
       "      <th>3</th>\n",
       "      <td>0.904846</td>\n",
       "      <td>0.095154</td>\n",
       "    </tr>\n",
       "    <tr>\n",
       "      <th>4</th>\n",
       "      <td>0.538689</td>\n",
       "      <td>0.461311</td>\n",
       "    </tr>\n",
       "  </tbody>\n",
       "</table>\n",
       "</div>"
      ],
      "text/plain": [
       "          0         1\n",
       "0  0.817163  0.182837\n",
       "1  0.986658  0.013342\n",
       "2  0.699232  0.300768\n",
       "3  0.904846  0.095154\n",
       "4  0.538689  0.461311"
      ]
     },
     "execution_count": 28,
     "metadata": {},
     "output_type": "execute_result"
    }
   ],
   "source": [
    "from sklearn.calibration import CalibratedClassifierCV\n",
    "clf_svc = CalibratedClassifierCV(svc_model, cv=3) \n",
    "clf_svc.fit(train_X, train_y)\n",
    "y_proba_svc = clf_svc.predict_proba(test_X)\n",
    "y_proba_svc = pd.DataFrame(y_proba_svc)\n",
    "y_proba_svc.head()\n",
    "#y_proba_svm['SVM PREDICTION'] = np.where(y_proba_svm[0] >= 0.5, 0, 1)"
   ]
  },
  {
   "cell_type": "markdown",
   "metadata": {},
   "source": [
    "## Random Forest"
   ]
  },
  {
   "cell_type": "code",
   "execution_count": 32,
   "metadata": {},
   "outputs": [],
   "source": [
    "from sklearn.ensemble import RandomForestClassifier"
   ]
  },
  {
   "cell_type": "markdown",
   "metadata": {},
   "source": [
    "### Tuning"
   ]
  },
  {
   "cell_type": "markdown",
   "metadata": {},
   "source": [
    "Perform once again some tuning to adjust the model parameters"
   ]
  },
  {
   "cell_type": "code",
   "execution_count": 42,
   "metadata": {},
   "outputs": [
    {
     "name": "stdout",
     "output_type": "stream",
     "text": [
      "{'criterion': 'entropy', 'max_depth': 8, 'max_features': 'auto', 'n_estimators': 250}\n"
     ]
    }
   ],
   "source": [
    "'''\n",
    "rf_final = RandomForestClassifier(random_state=0)\n",
    "param_grid = {\n",
    "    'n_estimators': [100, 250, 500],\n",
    "    'max_features': ['auto', 'sqrt', 'log2'],\n",
    "    'max_depth': [4, 5, 6, 7, 8],\n",
    "    'criterion': ['gini', 'entropy']\n",
    "}\n",
    "CV_rfc = GridSearchCV(estimator=rf_final, param_grid=param_grid, cv=5)\n",
    "CV_rfc.fit(train_X, train_y)\n",
    "print(CV_rfc.best_params_)"
   ]
  },
  {
   "cell_type": "markdown",
   "metadata": {},
   "source": [
    "### Model"
   ]
  },
  {
   "cell_type": "markdown",
   "metadata": {},
   "source": [
    "Impelment the model"
   ]
  },
  {
   "cell_type": "code",
   "execution_count": 37,
   "metadata": {},
   "outputs": [],
   "source": [
    "rfc1=RandomForestClassifier(random_state=0, max_features='auto', n_estimators= 500, max_depth=8, criterion='entropy')\n",
    "rfc1.fit(train_X, train_y)\n",
    "y_pred_rf = rfc1.predict(test_X)\n",
    "\n",
    "rfc1.feature_importances_\n",
    "sorted_idx = rfc1.feature_importances_.argsort()"
   ]
  },
  {
   "cell_type": "markdown",
   "metadata": {},
   "source": [
    "Plot an horizontal barplot of the feature's importance in our random forest"
   ]
  },
  {
   "cell_type": "code",
   "execution_count": 39,
   "metadata": {},
   "outputs": [
    {
     "data": {
      "image/png": "[encoded data removed]",
      "text/plain": [
       "<Figure size 1080x1080 with 1 Axes>"
      ]
     },
     "metadata": {
      "needs_background": "light"
     },
     "output_type": "display_data"
    }
   ],
   "source": [
    "sorted_idx = rfc1.feature_importances_.argsort()\n",
    "X = under_data.iloc[:, under_data.columns != \"Attrition_Flag\"].values\n",
    "yaxis1 = pd.DataFrame(X, columns= ['Customer_Age', 'Dependent_count', 'Months_on_book',\n",
    "       'Total_Relationship_Count', 'Months_Inactive_12_mon',\n",
    "       'Contacts_Count_12_mon', 'Credit_Limit', 'Total_Trans_Amt',\n",
    "       'Total_Trans_Ct', 'Avg_Utilization_Ratio', 'Education_Level_College',\n",
    "       'Education_Level_Doctorate', 'Education_Level_Graduate',\n",
    "       'Education_Level_High School', 'Education_Level_Post-Graduate',\n",
    "       'Education_Level_Uneducated', 'Education_Level_Unknown', 'Gender_F',\n",
    "       'Gender_M', 'Marital_Status_Divorced', 'Marital_Status_Married',\n",
    "       'Marital_Status_Single', 'Marital_Status_Unknown',\n",
    "       'Income_Category_$120K +', 'Income_Category_$40K - $60K',\n",
    "       'Income_Category_$60K - $80K', 'Income_Category_$80K - $120K',\n",
    "       'Income_Category_Less than $40K', 'Income_Category_Unknown',\n",
    "       'Card_Category_Blue', 'Card_Category_Gold', 'Card_Category_Platinum',\n",
    "       'Card_Category_Silver'])\n",
    "\n",
    "plt.figure(figsize=(15, 15))\n",
    "sns.barplot(x=rfc1.feature_importances_[sorted_idx], y=yaxis1.columns[sorted_idx], orient=\"h\",\n",
    "            palette=\"mako\")\n",
    "plt.xlabel(\"Random Forest Feature Importance\")\n",
    "plt.title(\"Random Forest Features Importance\", fontweight=\"bold\", fontsize=12)\n",
    "sns.set(font_scale=0.3)\n",
    "plt.rcParams['figure.dpi'] = 300\n",
    "plt.show()"
   ]
  },
  {
   "cell_type": "markdown",
   "metadata": {},
   "source": [
    "### Accuracy"
   ]
  },
  {
   "cell_type": "code",
   "execution_count": 44,
   "metadata": {},
   "outputs": [
    {
     "name": "stdout",
     "output_type": "stream",
     "text": [
      "Random Forest - Accuracy on the training set: 0.9773182121414277\n",
      "Random Forest - Accuracy on the test set: 0.9013333333333333\n",
      "Random Forest - Precision: 0.8789473684210526\n",
      "Random Forest - Recall: 0.9226519337016574\n"
     ]
    }
   ],
   "source": [
    "accuracy_train = rfc1.score(train_X, train_y)\n",
    "print(\"Random Forest - Accuracy on the training set: \" + str(accuracy_train))\n",
    "print(\"Random Forest - Accuracy on the test set: \" + str(accuracy_score(test_y, y_pred_rf)))\n",
    "print(\"Random Forest - Precision: \" + str(precision_score(test_y, y_pred_rf)))\n",
    "print(\"Random Forest - Recall: \" + str(recall_score(test_y, y_pred_rf)))"
   ]
  },
  {
   "cell_type": "code",
   "execution_count": 45,
   "metadata": {},
   "outputs": [
    {
     "data": {
      "text/plain": [
       "Text(91.68, 0.5, 'predicted label')"
      ]
     },
     "execution_count": 45,
     "metadata": {},
     "output_type": "execute_result"
    },
    {
     "data": {
      "image/png": "[encoded data removed]",
      "text/plain": [
       "<Figure size 432x288 with 1 Axes>"
      ]
     },
     "metadata": {
      "needs_background": "light"
     },
     "output_type": "display_data"
    }
   ],
   "source": [
    "mat = confusion_matrix(test_y, y_pred_rf)\n",
    "sns.heatmap(mat.T, square=True, annot=True, fmt='d', cbar=False)\n",
    "plt.xlabel('true label')\n",
    "plt.ylabel('predicted label')"
   ]
  },
  {
   "cell_type": "code",
   "execution_count": 46,
   "metadata": {},
   "outputs": [
    {
     "data": {
      "text/html": [
       "<div>\n",
       "<style scoped>\n",
       "    .dataframe tbody tr th:only-of-type {\n",
       "        vertical-align: middle;\n",
       "    }\n",
       "\n",
       "    .dataframe tbody tr th {\n",
       "        vertical-align: top;\n",
       "    }\n",
       "\n",
       "    .dataframe thead th {\n",
       "        text-align: right;\n",
       "    }\n",
       "</style>\n",
       "<table border=\"1\" class=\"dataframe\">\n",
       "  <thead>\n",
       "    <tr style=\"text-align: right;\">\n",
       "      <th></th>\n",
       "      <th>0</th>\n",
       "      <th>1</th>\n",
       "    </tr>\n",
       "  </thead>\n",
       "  <tbody>\n",
       "    <tr>\n",
       "      <th>0</th>\n",
       "      <td>0.918671</td>\n",
       "      <td>0.081329</td>\n",
       "    </tr>\n",
       "    <tr>\n",
       "      <th>1</th>\n",
       "      <td>0.993142</td>\n",
       "      <td>0.006858</td>\n",
       "    </tr>\n",
       "    <tr>\n",
       "      <th>2</th>\n",
       "      <td>0.961434</td>\n",
       "      <td>0.038566</td>\n",
       "    </tr>\n",
       "    <tr>\n",
       "      <th>3</th>\n",
       "      <td>0.960694</td>\n",
       "      <td>0.039306</td>\n",
       "    </tr>\n",
       "    <tr>\n",
       "      <th>4</th>\n",
       "      <td>0.932522</td>\n",
       "      <td>0.067478</td>\n",
       "    </tr>\n",
       "  </tbody>\n",
       "</table>\n",
       "</div>"
      ],
      "text/plain": [
       "          0         1\n",
       "0  0.918671  0.081329\n",
       "1  0.993142  0.006858\n",
       "2  0.961434  0.038566\n",
       "3  0.960694  0.039306\n",
       "4  0.932522  0.067478"
      ]
     },
     "execution_count": 46,
     "metadata": {},
     "output_type": "execute_result"
    }
   ],
   "source": [
    "clf_rf = CalibratedClassifierCV(rfc1, cv=3) \n",
    "clf_rf.fit(train_X, train_y)\n",
    "y_proba_rf = clf_rf.predict_proba(test_X)\n",
    "y_proba_rf = pd.DataFrame(y_proba_rf)\n",
    "y_proba_rf.head()\n",
    "#y_proba_rf['RF PREDICTION'] = np.where(y_proba_rf[0] >= 0.5, 0, 1)"
   ]
  },
  {
   "cell_type": "markdown",
   "metadata": {},
   "source": [
    "## Logistic Regression"
   ]
  },
  {
   "cell_type": "markdown",
   "metadata": {},
   "source": [
    "Try also with a simple logistic regression model."
   ]
  },
  {
   "cell_type": "code",
   "execution_count": 47,
   "metadata": {},
   "outputs": [
    {
     "name": "stdout",
     "output_type": "stream",
     "text": [
      "Accuracy on the training set: 0.8252168112074717\n",
      "Logistic Regression - Accuracy on the test set: 0.8426666666666667\n",
      "Logistic Regression - Precision: 0.8315217391304348\n",
      "Logistic Regression - Recall: 0.8453038674033149\n"
     ]
    }
   ],
   "source": [
    "from sklearn.linear_model import LogisticRegression\n",
    "\n",
    "logreg = LogisticRegression()\n",
    "logreg.fit(train_X, train_y.ravel())\n",
    "y_pred_log = logreg.predict(test_X)\n",
    "y_pred_log = pd.DataFrame(y_pred_log)\n",
    "\n",
    "accuracy_train = logreg.score(train_X, train_y)\n",
    "print(\"Accuracy on the training set: \" + str(accuracy_train))\n",
    "print(\"Logistic Regression - Accuracy on the test set: \" + str(accuracy_score(test_y, y_pred_log)))\n",
    "print(\"Logistic Regression - Precision: \" + str(precision_score(test_y, y_pred_log)))\n",
    "print(\"Logistic Regression - Recall: \" + str(recall_score(test_y, y_pred_log)))"
   ]
  },
  {
   "cell_type": "code",
   "execution_count": 48,
   "metadata": {},
   "outputs": [
    {
     "data": {
      "text/plain": [
       "Text(91.68, 0.5, 'predicted label')"
      ]
     },
     "execution_count": 48,
     "metadata": {},
     "output_type": "execute_result"
    },
    {
     "data": {
      "image/png": "[encoded data removed]",
      "text/plain": [
       "<Figure size 432x288 with 1 Axes>"
      ]
     },
     "metadata": {
      "needs_background": "light"
     },
     "output_type": "display_data"
    }
   ],
   "source": [
    "mat = confusion_matrix(test_y, y_pred_log)\n",
    "sns.heatmap(mat.T, square=True, annot=True, fmt='d', cbar=False)\n",
    "plt.xlabel('true label')\n",
    "plt.ylabel('predicted label')"
   ]
  },
  {
   "cell_type": "code",
   "execution_count": 49,
   "metadata": {},
   "outputs": [
    {
     "data": {
      "text/html": [
       "<div>\n",
       "<style scoped>\n",
       "    .dataframe tbody tr th:only-of-type {\n",
       "        vertical-align: middle;\n",
       "    }\n",
       "\n",
       "    .dataframe tbody tr th {\n",
       "        vertical-align: top;\n",
       "    }\n",
       "\n",
       "    .dataframe thead th {\n",
       "        text-align: right;\n",
       "    }\n",
       "</style>\n",
       "<table border=\"1\" class=\"dataframe\">\n",
       "  <thead>\n",
       "    <tr style=\"text-align: right;\">\n",
       "      <th></th>\n",
       "      <th>0</th>\n",
       "      <th>1</th>\n",
       "    </tr>\n",
       "  </thead>\n",
       "  <tbody>\n",
       "    <tr>\n",
       "      <th>0</th>\n",
       "      <td>0.663913</td>\n",
       "      <td>0.336087</td>\n",
       "    </tr>\n",
       "    <tr>\n",
       "      <th>1</th>\n",
       "      <td>0.996222</td>\n",
       "      <td>0.003778</td>\n",
       "    </tr>\n",
       "    <tr>\n",
       "      <th>2</th>\n",
       "      <td>0.727459</td>\n",
       "      <td>0.272541</td>\n",
       "    </tr>\n",
       "    <tr>\n",
       "      <th>3</th>\n",
       "      <td>0.728533</td>\n",
       "      <td>0.271467</td>\n",
       "    </tr>\n",
       "    <tr>\n",
       "      <th>4</th>\n",
       "      <td>0.706402</td>\n",
       "      <td>0.293598</td>\n",
       "    </tr>\n",
       "  </tbody>\n",
       "</table>\n",
       "</div>"
      ],
      "text/plain": [
       "          0         1\n",
       "0  0.663913  0.336087\n",
       "1  0.996222  0.003778\n",
       "2  0.727459  0.272541\n",
       "3  0.728533  0.271467\n",
       "4  0.706402  0.293598"
      ]
     },
     "execution_count": 49,
     "metadata": {},
     "output_type": "execute_result"
    }
   ],
   "source": [
    "clf_lgr = CalibratedClassifierCV(logreg, cv=3) \n",
    "clf_lgr.fit(train_X, train_y)\n",
    "y_proba_lgr = clf_lgr.predict_proba(test_X)\n",
    "y_proba_lgr = pd.DataFrame(y_proba_lgr)\n",
    "y_proba_lgr.head()\n",
    "#y_proba_lgr['LGR PREDICTION'] = np.where(y_proba_lgr[0] >= 0.5, 0, 1)"
   ]
  },
  {
   "cell_type": "markdown",
   "metadata": {},
   "source": [
    "## Artificial Neural Network"
   ]
  },
  {
   "cell_type": "markdown",
   "metadata": {},
   "source": [
    "Importing packages and building new classifer with grid search\n"
   ]
  },
  {
   "cell_type": "code",
   "execution_count": 30,
   "metadata": {},
   "outputs": [
    {
     "data": {
      "text/plain": [
       "'\\nfrom keras.wrappers.scikit_learn import KerasClassifier\\nfrom sklearn.model_selection import GridSearchCV\\nfrom keras.models import Sequential\\nfrom keras.layers import Dense\\n'"
      ]
     },
     "execution_count": 30,
     "metadata": {},
     "output_type": "execute_result"
    }
   ],
   "source": [
    "'''\n",
    "from keras.wrappers.scikit_learn import KerasClassifier\n",
    "from sklearn.model_selection import GridSearchCV\n",
    "from keras.models import Sequential\n",
    "from keras.layers import Dense\n",
    "'''"
   ]
  },
  {
   "cell_type": "code",
   "execution_count": 31,
   "metadata": {},
   "outputs": [
    {
     "data": {
      "text/plain": [
       "\"\\n# Building our Neural Network with empty optimizer, batch size, and epochs\\ndef build_classifier(optimizer):\\n    classifier = Sequential()\\n    classifier.add(Dense(units = 6, kernel_initializer = 'uniform', activation = 'relu', input_dim = 33))\\n    classifier.add(Dense(units = 6, kernel_initializer = 'uniform', activation = 'relu'))\\n    classifier.add(Dense(units = 6, kernel_initializer = 'uniform', activation = 'relu'))\\n    classifier.add(Dense(units = 6, kernel_initializer = 'uniform', activation = 'relu'))\\n    classifier.add(Dense(units = 1, kernel_initializer = 'uniform', activation = 'sigmoid'))\\n    classifier.compile(optimizer = optimizer, loss = 'binary_crossentropy', metrics = ['accuracy'])\\n    return classifier\\nclassifier = KerasClassifier(build_fn = build_classifier)\\n\""
      ]
     },
     "execution_count": 31,
     "metadata": {},
     "output_type": "execute_result"
    }
   ],
   "source": [
    "'''\n",
    "# Building our Neural Network with empty optimizer, batch size, and epochs\n",
    "def build_classifier(optimizer):\n",
    "    classifier = Sequential()\n",
    "    classifier.add(Dense(units = 6, kernel_initializer = 'uniform', activation = 'relu', input_dim = 33))\n",
    "    classifier.add(Dense(units = 6, kernel_initializer = 'uniform', activation = 'relu'))\n",
    "    classifier.add(Dense(units = 6, kernel_initializer = 'uniform', activation = 'relu'))\n",
    "    classifier.add(Dense(units = 6, kernel_initializer = 'uniform', activation = 'relu'))\n",
    "    classifier.add(Dense(units = 1, kernel_initializer = 'uniform', activation = 'sigmoid'))\n",
    "    classifier.compile(optimizer = optimizer, loss = 'binary_crossentropy', metrics = ['accuracy'])\n",
    "    return classifier\n",
    "classifier = KerasClassifier(build_fn = build_classifier)\n",
    "'''"
   ]
  },
  {
   "cell_type": "code",
   "execution_count": 32,
   "metadata": {},
   "outputs": [
    {
     "data": {
      "text/plain": [
       "\"\\n# Parameters for batch size, epochs, and optimizer functions\\nparameters = {'batch_size': [8, 16, 32, 64],\\n              'epochs': [50, 100, 200],\\n              'optimizer': ['adam', 'rmsprop']\\n\""
      ]
     },
     "execution_count": 32,
     "metadata": {},
     "output_type": "execute_result"
    }
   ],
   "source": [
    "'''\n",
    "# Parameters for batch size, epochs, and optimizer functions\n",
    "parameters = {'batch_size': [8, 16, 32, 64],\n",
    "              'epochs': [50, 100, 200],\n",
    "              'optimizer': ['adam', 'rmsprop']\n",
    "'''"
   ]
  },
  {
   "cell_type": "code",
   "execution_count": null,
   "metadata": {},
   "outputs": [],
   "source": [
    "'''\n",
    "# Setting up Grid Search\n",
    "grid_search = GridSearchCV(estimator = classifier,\n",
    "                           param_grid = parameters,\n",
    "                           scoring = 'accuracy',\n",
    "                           cv = 10)\n",
    "grid_search = grid_search.fit(train_X, train_y)\n",
    "best_parameters = grid_search.best_params_\n",
    "best_accuracy = grid_search.best_score_\n",
    "'''"
   ]
  },
  {
   "cell_type": "code",
   "execution_count": null,
   "metadata": {},
   "outputs": [],
   "source": [
    "'''\n",
    "# Getting our best parameters\n",
    "best_parameters\n",
    "'''"
   ]
  },
  {
   "cell_type": "markdown",
   "metadata": {},
   "source": [
    "Import the necessary libraries to build our neural network."
   ]
  },
  {
   "cell_type": "code",
   "execution_count": 71,
   "metadata": {},
   "outputs": [],
   "source": [
    "import tensorflow\n",
    "import keras\n",
    "from keras.models import Sequential\n",
    "from keras.layers import Dense\n",
    "import random \n",
    "\n",
    "# Initialising the ANN\n",
    "classifier = Sequential()"
   ]
  },
  {
   "cell_type": "code",
   "execution_count": 72,
   "metadata": {},
   "outputs": [],
   "source": [
    "# Adding the input layer and the first hidden layer\n",
    "classifier.add(Dense(units = 6, kernel_initializer = 'uniform', activation = 'relu', input_dim = 33))\n",
    "# Adding the second hidden layer\n",
    "classifier.add(Dense(units = 6, kernel_initializer = 'uniform', activation = 'relu'))\n",
    "# Adding the third hidden layer\n",
    "classifier.add(Dense(units = 6, kernel_initializer = 'uniform', activation = 'relu'))\n",
    "# Adding the fourth hidden layer\n",
    "classifier.add(Dense(units = 6, kernel_initializer = 'uniform', activation = 'relu'))\n",
    "# Adding the output layer\n",
    "classifier.add(Dense(units = 1, kernel_initializer = 'uniform', activation = 'sigmoid'))"
   ]
  },
  {
   "cell_type": "code",
   "execution_count": 73,
   "metadata": {},
   "outputs": [],
   "source": [
    "# Compiling the ANN\n",
    "classifier.compile(optimizer = 'adam', loss = 'binary_crossentropy', metrics = ['accuracy'])"
   ]
  },
  {
   "cell_type": "code",
   "execution_count": 74,
   "metadata": {},
   "outputs": [
    {
     "name": "stdout",
     "output_type": "stream",
     "text": [
      "Epoch 1/200\n",
      "24/24 [==============================] - 1s 3ms/step - loss: 0.6932 - accuracy: 0.5083\n",
      "Epoch 2/200\n",
      "24/24 [==============================] - 0s 4ms/step - loss: 0.6931 - accuracy: 0.5043\n",
      "Epoch 3/200\n",
      "24/24 [==============================] - 0s 4ms/step - loss: 0.6931 - accuracy: 0.5043\n",
      "Epoch 4/200\n",
      "24/24 [==============================] - 0s 3ms/step - loss: 0.6925 - accuracy: 0.5043\n",
      "Epoch 5/200\n",
      "24/24 [==============================] - 0s 2ms/step - loss: 0.6895 - accuracy: 0.6271\n",
      "Epoch 6/200\n",
      "24/24 [==============================] - 0s 3ms/step - loss: 0.6798 - accuracy: 0.7932\n",
      "Epoch 7/200\n",
      "24/24 [==============================] - 0s 3ms/step - loss: 0.6556 - accuracy: 0.7972\n",
      "Epoch 8/200\n",
      "24/24 [==============================] - 0s 3ms/step - loss: 0.6092 - accuracy: 0.8039\n",
      "Epoch 9/200\n",
      "24/24 [==============================] - 0s 5ms/step - loss: 0.5444 - accuracy: 0.8099\n",
      "Epoch 10/200\n",
      "24/24 [==============================] - 0s 4ms/step - loss: 0.4768 - accuracy: 0.8139\n",
      "Epoch 11/200\n",
      "24/24 [==============================] - 0s 3ms/step - loss: 0.4355 - accuracy: 0.8219\n",
      "Epoch 12/200\n",
      "24/24 [==============================] - 0s 4ms/step - loss: 0.4142 - accuracy: 0.8245\n",
      "Epoch 13/200\n",
      "24/24 [==============================] - 0s 3ms/step - loss: 0.4022 - accuracy: 0.8252\n",
      "Epoch 14/200\n",
      "24/24 [==============================] - 0s 3ms/step - loss: 0.3917 - accuracy: 0.8279\n",
      "Epoch 15/200\n",
      "24/24 [==============================] - 0s 4ms/step - loss: 0.3845 - accuracy: 0.8332\n",
      "Epoch 16/200\n",
      "24/24 [==============================] - 0s 4ms/step - loss: 0.3767 - accuracy: 0.8332\n",
      "Epoch 17/200\n",
      "24/24 [==============================] - 0s 3ms/step - loss: 0.3708 - accuracy: 0.8352\n",
      "Epoch 18/200\n",
      "24/24 [==============================] - 0s 4ms/step - loss: 0.3660 - accuracy: 0.8419\n",
      "Epoch 19/200\n",
      "24/24 [==============================] - 0s 5ms/step - loss: 0.3617 - accuracy: 0.8399\n",
      "Epoch 20/200\n",
      "24/24 [==============================] - 0s 5ms/step - loss: 0.3548 - accuracy: 0.8426\n",
      "Epoch 21/200\n",
      "24/24 [==============================] - 0s 6ms/step - loss: 0.3497 - accuracy: 0.8426\n",
      "Epoch 22/200\n",
      "24/24 [==============================] - 0s 3ms/step - loss: 0.3455 - accuracy: 0.8486\n",
      "Epoch 23/200\n",
      "24/24 [==============================] - 0s 7ms/step - loss: 0.3418 - accuracy: 0.8486\n",
      "Epoch 24/200\n",
      "24/24 [==============================] - 0s 5ms/step - loss: 0.3395 - accuracy: 0.8452\n",
      "Epoch 25/200\n",
      "24/24 [==============================] - 0s 5ms/step - loss: 0.3374 - accuracy: 0.8512\n",
      "Epoch 26/200\n",
      "24/24 [==============================] - 0s 4ms/step - loss: 0.3344 - accuracy: 0.8546\n",
      "Epoch 27/200\n",
      "24/24 [==============================] - 0s 2ms/step - loss: 0.3325 - accuracy: 0.8512\n",
      "Epoch 28/200\n",
      "24/24 [==============================] - 0s 5ms/step - loss: 0.3287 - accuracy: 0.8559\n",
      "Epoch 29/200\n",
      "24/24 [==============================] - 0s 3ms/step - loss: 0.3262 - accuracy: 0.8592\n",
      "Epoch 30/200\n",
      "24/24 [==============================] - 0s 4ms/step - loss: 0.3248 - accuracy: 0.8619\n",
      "Epoch 31/200\n",
      "24/24 [==============================] - 0s 3ms/step - loss: 0.3222 - accuracy: 0.8632\n",
      "Epoch 32/200\n",
      "24/24 [==============================] - 0s 3ms/step - loss: 0.3186 - accuracy: 0.8646\n",
      "Epoch 33/200\n",
      "24/24 [==============================] - 0s 3ms/step - loss: 0.3171 - accuracy: 0.8659\n",
      "Epoch 34/200\n",
      "24/24 [==============================] - 0s 3ms/step - loss: 0.3138 - accuracy: 0.8659\n",
      "Epoch 35/200\n",
      "24/24 [==============================] - 0s 4ms/step - loss: 0.3124 - accuracy: 0.8706\n",
      "Epoch 36/200\n",
      "24/24 [==============================] - 0s 3ms/step - loss: 0.3092 - accuracy: 0.8712\n",
      "Epoch 37/200\n",
      "24/24 [==============================] - 0s 3ms/step - loss: 0.3073 - accuracy: 0.8666\n",
      "Epoch 38/200\n",
      "24/24 [==============================] - 0s 4ms/step - loss: 0.3060 - accuracy: 0.8679\n",
      "Epoch 39/200\n",
      "24/24 [==============================] - 0s 3ms/step - loss: 0.3051 - accuracy: 0.8739\n",
      "Epoch 40/200\n",
      "24/24 [==============================] - 0s 3ms/step - loss: 0.3032 - accuracy: 0.8726\n",
      "Epoch 41/200\n",
      "24/24 [==============================] - 0s 3ms/step - loss: 0.3003 - accuracy: 0.8719\n",
      "Epoch 42/200\n",
      "24/24 [==============================] - 0s 3ms/step - loss: 0.2989 - accuracy: 0.8779\n",
      "Epoch 43/200\n",
      "24/24 [==============================] - 0s 3ms/step - loss: 0.2971 - accuracy: 0.8799\n",
      "Epoch 44/200\n",
      "24/24 [==============================] - 0s 3ms/step - loss: 0.2950 - accuracy: 0.8806\n",
      "Epoch 45/200\n",
      "24/24 [==============================] - 0s 3ms/step - loss: 0.2940 - accuracy: 0.8813\n",
      "Epoch 46/200\n",
      "24/24 [==============================] - 0s 3ms/step - loss: 0.2924 - accuracy: 0.8839\n",
      "Epoch 47/200\n",
      "24/24 [==============================] - 0s 4ms/step - loss: 0.2907 - accuracy: 0.8846\n",
      "Epoch 48/200\n",
      "24/24 [==============================] - 0s 2ms/step - loss: 0.2917 - accuracy: 0.8819\n",
      "Epoch 49/200\n",
      "24/24 [==============================] - 0s 3ms/step - loss: 0.2884 - accuracy: 0.8833\n",
      "Epoch 50/200\n",
      "24/24 [==============================] - 0s 4ms/step - loss: 0.2871 - accuracy: 0.8846\n",
      "Epoch 51/200\n",
      "24/24 [==============================] - 0s 3ms/step - loss: 0.2855 - accuracy: 0.8853\n",
      "Epoch 52/200\n",
      "24/24 [==============================] - 0s 4ms/step - loss: 0.2850 - accuracy: 0.8833\n",
      "Epoch 53/200\n",
      "24/24 [==============================] - 0s 2ms/step - loss: 0.2825 - accuracy: 0.8866\n",
      "Epoch 54/200\n",
      "24/24 [==============================] - 0s 3ms/step - loss: 0.2813 - accuracy: 0.8846\n",
      "Epoch 55/200\n",
      "24/24 [==============================] - 0s 3ms/step - loss: 0.2822 - accuracy: 0.8839\n",
      "Epoch 56/200\n",
      "24/24 [==============================] - 0s 2ms/step - loss: 0.2804 - accuracy: 0.8873\n",
      "Epoch 57/200\n",
      "24/24 [==============================] - 0s 2ms/step - loss: 0.2793 - accuracy: 0.8893\n",
      "Epoch 58/200\n",
      "24/24 [==============================] - 0s 2ms/step - loss: 0.2785 - accuracy: 0.8899\n",
      "Epoch 59/200\n",
      "24/24 [==============================] - 0s 2ms/step - loss: 0.2780 - accuracy: 0.8866\n",
      "Epoch 60/200\n",
      "24/24 [==============================] - 0s 3ms/step - loss: 0.2774 - accuracy: 0.8893\n",
      "Epoch 61/200\n",
      "24/24 [==============================] - 0s 3ms/step - loss: 0.2754 - accuracy: 0.8906\n",
      "Epoch 62/200\n",
      "24/24 [==============================] - 0s 3ms/step - loss: 0.2760 - accuracy: 0.8893\n",
      "Epoch 63/200\n",
      "24/24 [==============================] - 0s 4ms/step - loss: 0.2755 - accuracy: 0.8886\n",
      "Epoch 64/200\n",
      "24/24 [==============================] - 0s 3ms/step - loss: 0.2741 - accuracy: 0.8899\n",
      "Epoch 65/200\n",
      "24/24 [==============================] - 0s 4ms/step - loss: 0.2748 - accuracy: 0.8886\n",
      "Epoch 66/200\n",
      "24/24 [==============================] - 0s 3ms/step - loss: 0.2729 - accuracy: 0.8873\n",
      "Epoch 67/200\n",
      "24/24 [==============================] - 0s 3ms/step - loss: 0.2720 - accuracy: 0.8913\n",
      "Epoch 68/200\n",
      "24/24 [==============================] - 0s 3ms/step - loss: 0.2709 - accuracy: 0.8926\n",
      "Epoch 69/200\n",
      "24/24 [==============================] - 0s 3ms/step - loss: 0.2708 - accuracy: 0.8933\n",
      "Epoch 70/200\n",
      "24/24 [==============================] - 0s 6ms/step - loss: 0.2744 - accuracy: 0.8893\n",
      "Epoch 71/200\n",
      "24/24 [==============================] - 0s 4ms/step - loss: 0.2696 - accuracy: 0.8906\n",
      "Epoch 72/200\n",
      "24/24 [==============================] - 0s 3ms/step - loss: 0.2685 - accuracy: 0.8913\n",
      "Epoch 73/200\n",
      "24/24 [==============================] - 0s 3ms/step - loss: 0.2689 - accuracy: 0.8906\n",
      "Epoch 74/200\n",
      "24/24 [==============================] - 0s 5ms/step - loss: 0.2677 - accuracy: 0.8919\n",
      "Epoch 75/200\n",
      "24/24 [==============================] - 0s 4ms/step - loss: 0.2677 - accuracy: 0.8926\n",
      "Epoch 76/200\n",
      "24/24 [==============================] - 0s 4ms/step - loss: 0.2692 - accuracy: 0.8919\n",
      "Epoch 77/200\n",
      "24/24 [==============================] - 0s 3ms/step - loss: 0.2666 - accuracy: 0.8913\n",
      "Epoch 78/200\n",
      "24/24 [==============================] - 0s 4ms/step - loss: 0.2673 - accuracy: 0.8953\n",
      "Epoch 79/200\n",
      "24/24 [==============================] - 0s 3ms/step - loss: 0.2657 - accuracy: 0.8919\n",
      "Epoch 80/200\n",
      "24/24 [==============================] - 0s 3ms/step - loss: 0.2647 - accuracy: 0.8959\n",
      "Epoch 81/200\n",
      "24/24 [==============================] - 0s 3ms/step - loss: 0.2655 - accuracy: 0.8919\n",
      "Epoch 82/200\n",
      "24/24 [==============================] - 0s 3ms/step - loss: 0.2649 - accuracy: 0.8959\n",
      "Epoch 83/200\n"
     ]
    },
    {
     "name": "stdout",
     "output_type": "stream",
     "text": [
      "24/24 [==============================] - 0s 4ms/step - loss: 0.2644 - accuracy: 0.8933\n",
      "Epoch 84/200\n",
      "24/24 [==============================] - 0s 2ms/step - loss: 0.2628 - accuracy: 0.8973\n",
      "Epoch 85/200\n",
      "24/24 [==============================] - 0s 3ms/step - loss: 0.2641 - accuracy: 0.8986\n",
      "Epoch 86/200\n",
      "24/24 [==============================] - 0s 4ms/step - loss: 0.2627 - accuracy: 0.8953\n",
      "Epoch 87/200\n",
      "24/24 [==============================] - 0s 5ms/step - loss: 0.2614 - accuracy: 0.8986\n",
      "Epoch 88/200\n",
      "24/24 [==============================] - 0s 3ms/step - loss: 0.2620 - accuracy: 0.8959\n",
      "Epoch 89/200\n",
      "24/24 [==============================] - 0s 2ms/step - loss: 0.2618 - accuracy: 0.8979\n",
      "Epoch 90/200\n",
      "24/24 [==============================] - 0s 3ms/step - loss: 0.2603 - accuracy: 0.8993\n",
      "Epoch 91/200\n",
      "24/24 [==============================] - 0s 4ms/step - loss: 0.2594 - accuracy: 0.8979\n",
      "Epoch 92/200\n",
      "24/24 [==============================] - 0s 3ms/step - loss: 0.2595 - accuracy: 0.8973\n",
      "Epoch 93/200\n",
      "24/24 [==============================] - 0s 3ms/step - loss: 0.2598 - accuracy: 0.8966\n",
      "Epoch 94/200\n",
      "24/24 [==============================] - 0s 3ms/step - loss: 0.2600 - accuracy: 0.8986\n",
      "Epoch 95/200\n",
      "24/24 [==============================] - 0s 3ms/step - loss: 0.2596 - accuracy: 0.9006\n",
      "Epoch 96/200\n",
      "24/24 [==============================] - 0s 3ms/step - loss: 0.2590 - accuracy: 0.8986\n",
      "Epoch 97/200\n",
      "24/24 [==============================] - 0s 3ms/step - loss: 0.2588 - accuracy: 0.8933\n",
      "Epoch 98/200\n",
      "24/24 [==============================] - 0s 3ms/step - loss: 0.2597 - accuracy: 0.8993\n",
      "Epoch 99/200\n",
      "24/24 [==============================] - 0s 4ms/step - loss: 0.2572 - accuracy: 0.8966\n",
      "Epoch 100/200\n",
      "24/24 [==============================] - 0s 3ms/step - loss: 0.2581 - accuracy: 0.8973\n",
      "Epoch 101/200\n",
      "24/24 [==============================] - 0s 3ms/step - loss: 0.2565 - accuracy: 0.9019\n",
      "Epoch 102/200\n",
      "24/24 [==============================] - 0s 4ms/step - loss: 0.2567 - accuracy: 0.9033\n",
      "Epoch 103/200\n",
      "24/24 [==============================] - 0s 3ms/step - loss: 0.2555 - accuracy: 0.8979\n",
      "Epoch 104/200\n",
      "24/24 [==============================] - 0s 3ms/step - loss: 0.2564 - accuracy: 0.9039\n",
      "Epoch 105/200\n",
      "24/24 [==============================] - 0s 3ms/step - loss: 0.2550 - accuracy: 0.8979\n",
      "Epoch 106/200\n",
      "24/24 [==============================] - 0s 3ms/step - loss: 0.2542 - accuracy: 0.9039\n",
      "Epoch 107/200\n",
      "24/24 [==============================] - 0s 3ms/step - loss: 0.2558 - accuracy: 0.8993\n",
      "Epoch 108/200\n",
      "24/24 [==============================] - 0s 4ms/step - loss: 0.2552 - accuracy: 0.9013\n",
      "Epoch 109/200\n",
      "24/24 [==============================] - 0s 3ms/step - loss: 0.2557 - accuracy: 0.8959\n",
      "Epoch 110/200\n",
      "24/24 [==============================] - 0s 3ms/step - loss: 0.2541 - accuracy: 0.8999\n",
      "Epoch 111/200\n",
      "24/24 [==============================] - 0s 3ms/step - loss: 0.2541 - accuracy: 0.9046\n",
      "Epoch 112/200\n",
      "24/24 [==============================] - 0s 3ms/step - loss: 0.2543 - accuracy: 0.8966\n",
      "Epoch 113/200\n",
      "24/24 [==============================] - 0s 3ms/step - loss: 0.2536 - accuracy: 0.9006\n",
      "Epoch 114/200\n",
      "24/24 [==============================] - 0s 3ms/step - loss: 0.2537 - accuracy: 0.9026\n",
      "Epoch 115/200\n",
      "24/24 [==============================] - 0s 3ms/step - loss: 0.2518 - accuracy: 0.9019\n",
      "Epoch 116/200\n",
      "24/24 [==============================] - 0s 3ms/step - loss: 0.2533 - accuracy: 0.9039\n",
      "Epoch 117/200\n",
      "24/24 [==============================] - 0s 3ms/step - loss: 0.2521 - accuracy: 0.9059\n",
      "Epoch 118/200\n",
      "24/24 [==============================] - 0s 2ms/step - loss: 0.2510 - accuracy: 0.9046\n",
      "Epoch 119/200\n",
      "24/24 [==============================] - 0s 3ms/step - loss: 0.2530 - accuracy: 0.9039\n",
      "Epoch 120/200\n",
      "24/24 [==============================] - 0s 6ms/step - loss: 0.2524 - accuracy: 0.9026\n",
      "Epoch 121/200\n",
      "24/24 [==============================] - 0s 6ms/step - loss: 0.2516 - accuracy: 0.9013\n",
      "Epoch 122/200\n",
      "24/24 [==============================] - 0s 3ms/step - loss: 0.2528 - accuracy: 0.9013\n",
      "Epoch 123/200\n",
      "24/24 [==============================] - 0s 2ms/step - loss: 0.2506 - accuracy: 0.9053\n",
      "Epoch 124/200\n",
      "24/24 [==============================] - 0s 2ms/step - loss: 0.2517 - accuracy: 0.9033\n",
      "Epoch 125/200\n",
      "24/24 [==============================] - 0s 3ms/step - loss: 0.2513 - accuracy: 0.9026\n",
      "Epoch 126/200\n",
      "24/24 [==============================] - 0s 4ms/step - loss: 0.2504 - accuracy: 0.9059\n",
      "Epoch 127/200\n",
      "24/24 [==============================] - 0s 3ms/step - loss: 0.2495 - accuracy: 0.9033\n",
      "Epoch 128/200\n",
      "24/24 [==============================] - 0s 3ms/step - loss: 0.2511 - accuracy: 0.9066\n",
      "Epoch 129/200\n",
      "24/24 [==============================] - 0s 2ms/step - loss: 0.2507 - accuracy: 0.9026\n",
      "Epoch 130/200\n",
      "24/24 [==============================] - 0s 2ms/step - loss: 0.2497 - accuracy: 0.9019\n",
      "Epoch 131/200\n",
      "24/24 [==============================] - 0s 3ms/step - loss: 0.2495 - accuracy: 0.8999\n",
      "Epoch 132/200\n",
      "24/24 [==============================] - 0s 4ms/step - loss: 0.2511 - accuracy: 0.9053\n",
      "Epoch 133/200\n",
      "24/24 [==============================] - 0s 3ms/step - loss: 0.2494 - accuracy: 0.9026\n",
      "Epoch 134/200\n",
      "24/24 [==============================] - 0s 2ms/step - loss: 0.2501 - accuracy: 0.8986\n",
      "Epoch 135/200\n",
      "24/24 [==============================] - 0s 3ms/step - loss: 0.2490 - accuracy: 0.9026\n",
      "Epoch 136/200\n",
      "24/24 [==============================] - 0s 3ms/step - loss: 0.2482 - accuracy: 0.9073\n",
      "Epoch 137/200\n",
      "24/24 [==============================] - 0s 3ms/step - loss: 0.2497 - accuracy: 0.9019\n",
      "Epoch 138/200\n",
      "24/24 [==============================] - 0s 3ms/step - loss: 0.2490 - accuracy: 0.9033\n",
      "Epoch 139/200\n",
      "24/24 [==============================] - 0s 3ms/step - loss: 0.2490 - accuracy: 0.9046\n",
      "Epoch 140/200\n",
      "24/24 [==============================] - 0s 3ms/step - loss: 0.2496 - accuracy: 0.9066\n",
      "Epoch 141/200\n",
      "24/24 [==============================] - 0s 2ms/step - loss: 0.2492 - accuracy: 0.9013\n",
      "Epoch 142/200\n",
      "24/24 [==============================] - 0s 2ms/step - loss: 0.2494 - accuracy: 0.9013\n",
      "Epoch 143/200\n",
      "24/24 [==============================] - 0s 3ms/step - loss: 0.2500 - accuracy: 0.9046\n",
      "Epoch 144/200\n",
      "24/24 [==============================] - 0s 3ms/step - loss: 0.2481 - accuracy: 0.9053\n",
      "Epoch 145/200\n",
      "24/24 [==============================] - 0s 4ms/step - loss: 0.2471 - accuracy: 0.9046\n",
      "Epoch 146/200\n",
      "24/24 [==============================] - 0s 2ms/step - loss: 0.2481 - accuracy: 0.9059\n",
      "Epoch 147/200\n",
      "24/24 [==============================] - 0s 3ms/step - loss: 0.2490 - accuracy: 0.8999\n",
      "Epoch 148/200\n",
      "24/24 [==============================] - 0s 4ms/step - loss: 0.2477 - accuracy: 0.9046\n",
      "Epoch 149/200\n",
      "24/24 [==============================] - 0s 2ms/step - loss: 0.2482 - accuracy: 0.9033\n",
      "Epoch 150/200\n",
      "24/24 [==============================] - 0s 3ms/step - loss: 0.2478 - accuracy: 0.9013\n",
      "Epoch 151/200\n",
      "24/24 [==============================] - 0s 2ms/step - loss: 0.2497 - accuracy: 0.9066\n",
      "Epoch 152/200\n",
      "24/24 [==============================] - 0s 3ms/step - loss: 0.2472 - accuracy: 0.9006\n",
      "Epoch 153/200\n",
      "24/24 [==============================] - 0s 3ms/step - loss: 0.2486 - accuracy: 0.9046\n",
      "Epoch 154/200\n",
      "24/24 [==============================] - 0s 4ms/step - loss: 0.2477 - accuracy: 0.9026\n",
      "Epoch 155/200\n",
      "24/24 [==============================] - 0s 3ms/step - loss: 0.2475 - accuracy: 0.9039\n",
      "Epoch 156/200\n",
      "24/24 [==============================] - 0s 4ms/step - loss: 0.2480 - accuracy: 0.9053\n",
      "Epoch 157/200\n",
      "24/24 [==============================] - 0s 4ms/step - loss: 0.2479 - accuracy: 0.9053\n",
      "Epoch 158/200\n",
      "24/24 [==============================] - 0s 3ms/step - loss: 0.2484 - accuracy: 0.9019\n",
      "Epoch 159/200\n",
      "24/24 [==============================] - 0s 4ms/step - loss: 0.2488 - accuracy: 0.9059\n",
      "Epoch 160/200\n",
      "24/24 [==============================] - 0s 2ms/step - loss: 0.2472 - accuracy: 0.9059\n",
      "Epoch 161/200\n",
      "24/24 [==============================] - 0s 2ms/step - loss: 0.2480 - accuracy: 0.9046\n",
      "Epoch 162/200\n",
      "24/24 [==============================] - 0s 3ms/step - loss: 0.2483 - accuracy: 0.9046\n",
      "Epoch 163/200\n",
      "24/24 [==============================] - 0s 3ms/step - loss: 0.2481 - accuracy: 0.9053\n",
      "Epoch 164/200\n",
      "24/24 [==============================] - 0s 3ms/step - loss: 0.2502 - accuracy: 0.9013\n",
      "Epoch 165/200\n",
      "24/24 [==============================] - 0s 3ms/step - loss: 0.2463 - accuracy: 0.9079\n",
      "Epoch 166/200\n",
      "24/24 [==============================] - 0s 3ms/step - loss: 0.2475 - accuracy: 0.9039\n",
      "Epoch 167/200\n",
      "24/24 [==============================] - 0s 3ms/step - loss: 0.2472 - accuracy: 0.9019\n",
      "Epoch 168/200\n",
      "24/24 [==============================] - 0s 2ms/step - loss: 0.2482 - accuracy: 0.9026\n",
      "Epoch 169/200\n",
      "24/24 [==============================] - 0s 2ms/step - loss: 0.2468 - accuracy: 0.9026\n",
      "Epoch 170/200\n",
      "24/24 [==============================] - 0s 2ms/step - loss: 0.2459 - accuracy: 0.9053\n",
      "Epoch 171/200\n",
      "24/24 [==============================] - 0s 3ms/step - loss: 0.2475 - accuracy: 0.9033\n",
      "Epoch 172/200\n",
      "24/24 [==============================] - 0s 2ms/step - loss: 0.2468 - accuracy: 0.9046\n",
      "Epoch 173/200\n",
      "24/24 [==============================] - 0s 3ms/step - loss: 0.2452 - accuracy: 0.9053\n",
      "Epoch 174/200\n",
      "24/24 [==============================] - 0s 3ms/step - loss: 0.2464 - accuracy: 0.9059\n",
      "Epoch 175/200\n",
      "24/24 [==============================] - 0s 2ms/step - loss: 0.2461 - accuracy: 0.9086\n",
      "Epoch 176/200\n",
      "24/24 [==============================] - 0s 2ms/step - loss: 0.2450 - accuracy: 0.9053\n",
      "Epoch 177/200\n",
      "24/24 [==============================] - 0s 3ms/step - loss: 0.2453 - accuracy: 0.9039\n",
      "Epoch 178/200\n",
      "24/24 [==============================] - 0s 3ms/step - loss: 0.2453 - accuracy: 0.9046\n",
      "Epoch 179/200\n",
      "24/24 [==============================] - 0s 3ms/step - loss: 0.2461 - accuracy: 0.9046\n",
      "Epoch 180/200\n",
      "24/24 [==============================] - 0s 3ms/step - loss: 0.2467 - accuracy: 0.9053\n",
      "Epoch 181/200\n",
      "24/24 [==============================] - 0s 3ms/step - loss: 0.2459 - accuracy: 0.9046\n",
      "Epoch 182/200\n",
      "24/24 [==============================] - 0s 2ms/step - loss: 0.2453 - accuracy: 0.9046\n",
      "Epoch 183/200\n",
      "24/24 [==============================] - 0s 3ms/step - loss: 0.2445 - accuracy: 0.9093\n",
      "Epoch 184/200\n",
      "24/24 [==============================] - 0s 3ms/step - loss: 0.2440 - accuracy: 0.9066\n",
      "Epoch 185/200\n",
      "24/24 [==============================] - 0s 2ms/step - loss: 0.2445 - accuracy: 0.9059\n",
      "Epoch 186/200\n",
      "24/24 [==============================] - 0s 3ms/step - loss: 0.2440 - accuracy: 0.9053\n",
      "Epoch 187/200\n",
      "24/24 [==============================] - 0s 3ms/step - loss: 0.2454 - accuracy: 0.9073\n",
      "Epoch 188/200\n",
      "24/24 [==============================] - 0s 4ms/step - loss: 0.2429 - accuracy: 0.9073\n",
      "Epoch 189/200\n",
      "24/24 [==============================] - 0s 3ms/step - loss: 0.2433 - accuracy: 0.9059\n",
      "Epoch 190/200\n",
      "24/24 [==============================] - 0s 2ms/step - loss: 0.2430 - accuracy: 0.9066\n",
      "Epoch 191/200\n",
      "24/24 [==============================] - 0s 3ms/step - loss: 0.2444 - accuracy: 0.9099\n",
      "Epoch 192/200\n",
      "24/24 [==============================] - 0s 3ms/step - loss: 0.2427 - accuracy: 0.9073\n",
      "Epoch 193/200\n",
      "24/24 [==============================] - 0s 3ms/step - loss: 0.2424 - accuracy: 0.9086\n",
      "Epoch 194/200\n",
      "24/24 [==============================] - 0s 3ms/step - loss: 0.2432 - accuracy: 0.9079\n",
      "Epoch 195/200\n",
      "24/24 [==============================] - 0s 3ms/step - loss: 0.2420 - accuracy: 0.9106\n",
      "Epoch 196/200\n",
      "24/24 [==============================] - 0s 3ms/step - loss: 0.2446 - accuracy: 0.9073\n",
      "Epoch 197/200\n",
      "24/24 [==============================] - 0s 4ms/step - loss: 0.2416 - accuracy: 0.9099\n",
      "Epoch 198/200\n",
      "24/24 [==============================] - 0s 4ms/step - loss: 0.2422 - accuracy: 0.9099\n",
      "Epoch 199/200\n",
      "24/24 [==============================] - 0s 3ms/step - loss: 0.2423 - accuracy: 0.9119\n",
      "Epoch 200/200\n",
      "24/24 [==============================] - 0s 2ms/step - loss: 0.2416 - accuracy: 0.9099\n"
     ]
    }
   ],
   "source": [
    "# Fitting the ANN to the Training set\n",
    "classifier.fit(train_X, train_y, batch_size = 64, epochs = 200)\n",
    "# Predicting the Test set results\n",
    "y_pred_ann = classifier.predict(test_X)\n",
    "y_pred_ann = (y_pred_ann > 0.5)"
   ]
  },
  {
   "cell_type": "code",
   "execution_count": 75,
   "metadata": {},
   "outputs": [
    {
     "name": "stdout",
     "output_type": "stream",
     "text": [
      "ANN - Accuracy on the test set:  0.8533333333333334\n",
      "ANN - Precision:  0.8620689655172413\n",
      "ANN - Recall:  0.8287292817679558\n"
     ]
    }
   ],
   "source": [
    "from sklearn.metrics import confusion_matrix\n",
    "# Making the Confusion Matrix\n",
    "cm = confusion_matrix(test_y, y_pred_ann)\n",
    "# Computing Accuracy, Precision and Recall\n",
    "print(\"ANN - Accuracy on the test set: \", accuracy_score(test_y, y_pred_ann))\n",
    "print(\"ANN - Precision: \", precision_score(test_y, y_pred_ann))\n",
    "print(\"ANN - Recall: \", recall_score(test_y, y_pred_ann))"
   ]
  },
  {
   "cell_type": "code",
   "execution_count": 76,
   "metadata": {},
   "outputs": [
    {
     "data": {
      "text/plain": [
       "Text(401.25000000000006, 0.5, 'predicted label')"
      ]
     },
     "execution_count": 76,
     "metadata": {},
     "output_type": "execute_result"
    },
    {
     "data": {
      "image/png": "[encoded data removed]",
      "text/plain": [
       "<Figure size 1800x1200 with 1 Axes>"
      ]
     },
     "metadata": {},
     "output_type": "display_data"
    }
   ],
   "source": [
    "mat = confusion_matrix(test_y, y_pred_ann)\n",
    "sns.heatmap(mat.T, square=True, annot=True, fmt='d', cbar=False)\n",
    "plt.xlabel('true label')\n",
    "plt.ylabel('predicted label')"
   ]
  },
  {
   "cell_type": "markdown",
   "metadata": {},
   "source": []
  }
 ],
 "metadata": {
  "interpreter": {
   "hash": "40d3a090f54c6569ab1632332b64b2c03c39dcf918b08424e98f38b5ae0af88f"
  },
  "kernelspec": {
   "display_name": "Python 3",
   "language": "python",
   "name": "python3"
  },
  "language_info": {
   "codemirror_mode": {
    "name": "ipython",
    "version": 3
   },
   "file_extension": ".py",
   "mimetype": "text/x-python",
   "name": "python",
   "nbconvert_exporter": "python",
   "pygments_lexer": "ipython3",
   "version": "3.8.8"
  }
 },
 "nbformat": 4,
 "nbformat_minor": 2
}
